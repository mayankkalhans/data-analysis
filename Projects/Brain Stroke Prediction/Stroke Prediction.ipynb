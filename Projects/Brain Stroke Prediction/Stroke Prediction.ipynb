{
 "cells": [
  {
   "cell_type": "markdown",
   "id": "suburban-attribute",
   "metadata": {},
   "source": [
    "<p style=\"font-size:32px;text-align:center\"> <b>Stroke Prediction</b> </p>"
   ]
  },
  {
   "cell_type": "markdown",
   "id": "governing-soldier",
   "metadata": {},
   "source": [
    "# Introduction"
   ]
  },
  {
   "cell_type": "markdown",
   "id": "framed-custom",
   "metadata": {},
   "source": [
    "- A stroke occurs when a blood vessel in the brain ruptures and bleeds, or when there’s a blockage in the blood    supply to the brain. The rupture or blockage prevents blood and oxygen from reaching the brain’s tissues.\n",
    "\n",
    "- Risk factors for stroke\n",
    "\n",
    "Certain risk factors make you more susceptible to stroke. According to the National Heart, Lung, and Blood InstituteTrusted Source, the more risk factors you have, the more likely you are to have a stroke. Risk factors for stroke include:\n",
    "\n",
    "**Diet**\n",
    "\n",
    "An unhealthy diet that increases your risk of stroke is one that’s high in:\n",
    "\n",
    "    salt\n",
    "    saturated fats\n",
    "    trans fats\n",
    "    cholesterol\n",
    "\n",
    "**Inactivity**\n",
    "\n",
    "Inactivity, or lack of exercise, can also raise your risk for stroke.\n",
    "\n",
    "Regular exercise has a number of health benefits. The CDC recommends that adults get at least 2.5 hoursTrusted Source of aerobic exercise every week. This can mean simply a brisk walk a few times a week.\n",
    "\n",
    "**Alcohol consumption**\n",
    "\n",
    "Your risk for stroke also increases if you drink too much alcohol. Alcohol consumption should be done in moderation. This means no more than one drink per day for women, and no more than two for men. More than that may raise blood pressure levels as well as triglyceride levels, which can cause atherosclerosis.\n",
    "\n",
    "**Tobacco use**\n",
    "\n",
    "Using tobacco in any form also raises your risk for stroke, since it can damage your blood vessels and heart. This is further increased when smoking, because your blood pressure rises when you use nicotine.\n",
    "Personal background\n",
    "\n",
    "There are certain personal risk factors for stroke that you can’t control. Stroke risk can be linked to your:\n",
    "\n",
    "    Family history: Stroke risk is higher in some families because of genetic health issues, such as high blood pressure.\n",
    "    Sex: While both women and men can have strokes, they’re more common in women than in men in all age groups.\n",
    "    Age: The older you are, the more likely you are to have a stroke.\n",
    "    Race and ethnicity: Caucasians, Asian Americans, and Hispanics are less likely to have a stroke than African-Americans, Alaska Natives, and American Indians.\n",
    "\n",
    "**Health history**\n",
    "\n",
    "Certain medical conditions are linked to stroke risk. These include:\n",
    "\n",
    "    a previous stroke or TIA\n",
    "    high blood pressure\n",
    "    high cholesterol\n",
    "    heart disorders, such as coronary artery disease\n",
    "    heart valve defects\n",
    "    enlarged heart chambers and irregular heartbeats\n",
    "    sickle cell disease\n",
    "    diabetes\n",
    "    \n",
    "    \n",
    "    \n",
    "<img src=\"stroke.jpg\" width=600 height=600 />"
   ]
  },
  {
   "cell_type": "markdown",
   "id": "atmospheric-attachment",
   "metadata": {},
   "source": [
    "# Data "
   ]
  },
  {
   "cell_type": "markdown",
   "id": "separate-camel",
   "metadata": {},
   "source": [
    "1. id: unique identifier\n",
    "\n",
    "2. gender: \"Male\", \"Female\" or \"Other\"\n",
    "\n",
    "3. age: age of the patient\n",
    "\n",
    "4. hypertension: 0 if the patient doesn't have hypertension, 1 if the patient has hypertension\n",
    "\n",
    "5. heart_disease: 0 if the patient doesn't have any heart diseases, 1 if the patient has a heart disease\n",
    "\n",
    "6. ever_married: \"No\" or \"Yes\"\n",
    "\n",
    "7. work_type: \"children\", \"Govt_jov\", \"Never_worked\", \"Private\" or \"Self-employed\"\n",
    "\n",
    "8. Residence_type: \"Rural\" or \"Urban\"\n",
    "\n",
    "9. avg_glucose_level: average glucose level in blood\n",
    "\n",
    "10. bmi: body mass index\n",
    "\n",
    "11. smoking_status: \"formerly smoked\", \"never smoked\", \"smokes\" or \"Unknown\"*\n",
    "\n",
    "12. stroke: 1 if the patient had a stroke or 0 if not\n",
    "\n",
    "**Note: \"Unknown\" in smoking_status means that the information is unavailable for this patient**"
   ]
  },
  {
   "cell_type": "markdown",
   "id": "cardiovascular-mortgage",
   "metadata": {},
   "source": [
    "# Importing Libraries and Data"
   ]
  },
  {
   "cell_type": "code",
   "execution_count": 1,
   "id": "middle-sword",
   "metadata": {
    "ExecuteTime": {
     "end_time": "2021-03-21T16:36:55.190436Z",
     "start_time": "2021-03-21T16:36:50.486564Z"
    }
   },
   "outputs": [],
   "source": [
    "import pandas as pd \n",
    "import numpy as np\n",
    "import matplotlib.pyplot as plt\n",
    "from scipy.sparse import hstack\n",
    "import seaborn as sns\n",
    "sns.set()\n",
    "%matplotlib inline\n",
    "import warnings\n",
    "warnings.filterwarnings(\"ignore\")\n",
    "\n",
    "\n",
    "from imblearn.over_sampling import RandomOverSampler\n",
    "\n",
    "from sklearn.model_selection import train_test_split\n",
    "from sklearn.linear_model import SGDClassifier\n",
    "from sklearn.calibration import CalibratedClassifierCV\n",
    "from sklearn.linear_model import LogisticRegression\n",
    "from sklearn.svm import LinearSVC\n",
    "from sklearn.ensemble import RandomForestClassifier as rgb\n",
    "from xgboost import XGBRFClassifier as xgb\n",
    "from sklearn.naive_bayes import MultinomialNB\n",
    "from sklearn.model_selection import cross_val_score\n",
    "from sklearn.model_selection import RandomizedSearchCV\n",
    "from sklearn.preprocessing import MinMaxScaler\n",
    "from sklearn.compose import ColumnTransformer\n",
    "from sklearn.preprocessing import OneHotEncoder\n",
    "from sklearn.metrics import log_loss, confusion_matrix, accuracy_score\n",
    "\n",
    "from sklearn.ensemble import StackingClassifier\n",
    "from prettytable import PrettyTable, MSWORD_FRIENDLY, DEFAULT"
   ]
  },
  {
   "cell_type": "code",
   "execution_count": 2,
   "id": "wireless-vocabulary",
   "metadata": {
    "ExecuteTime": {
     "end_time": "2021-03-21T16:36:55.221748Z",
     "start_time": "2021-03-21T16:36:55.192749Z"
    }
   },
   "outputs": [],
   "source": [
    "stroke = pd.read_csv(\"healthcare-dataset-stroke-data.csv\")"
   ]
  },
  {
   "cell_type": "code",
   "execution_count": 3,
   "id": "informational-thriller",
   "metadata": {
    "ExecuteTime": {
     "end_time": "2021-03-21T16:36:55.252771Z",
     "start_time": "2021-03-21T16:36:55.223747Z"
    }
   },
   "outputs": [
    {
     "data": {
      "text/html": [
       "<div>\n",
       "<style scoped>\n",
       "    .dataframe tbody tr th:only-of-type {\n",
       "        vertical-align: middle;\n",
       "    }\n",
       "\n",
       "    .dataframe tbody tr th {\n",
       "        vertical-align: top;\n",
       "    }\n",
       "\n",
       "    .dataframe thead th {\n",
       "        text-align: right;\n",
       "    }\n",
       "</style>\n",
       "<table border=\"1\" class=\"dataframe\">\n",
       "  <thead>\n",
       "    <tr style=\"text-align: right;\">\n",
       "      <th></th>\n",
       "      <th>id</th>\n",
       "      <th>gender</th>\n",
       "      <th>age</th>\n",
       "      <th>hypertension</th>\n",
       "      <th>heart_disease</th>\n",
       "      <th>ever_married</th>\n",
       "      <th>work_type</th>\n",
       "      <th>Residence_type</th>\n",
       "      <th>avg_glucose_level</th>\n",
       "      <th>bmi</th>\n",
       "      <th>smoking_status</th>\n",
       "      <th>stroke</th>\n",
       "    </tr>\n",
       "  </thead>\n",
       "  <tbody>\n",
       "    <tr>\n",
       "      <th>0</th>\n",
       "      <td>9046</td>\n",
       "      <td>Male</td>\n",
       "      <td>67.0</td>\n",
       "      <td>0</td>\n",
       "      <td>1</td>\n",
       "      <td>Yes</td>\n",
       "      <td>Private</td>\n",
       "      <td>Urban</td>\n",
       "      <td>228.69</td>\n",
       "      <td>36.6</td>\n",
       "      <td>formerly smoked</td>\n",
       "      <td>1</td>\n",
       "    </tr>\n",
       "    <tr>\n",
       "      <th>1</th>\n",
       "      <td>51676</td>\n",
       "      <td>Female</td>\n",
       "      <td>61.0</td>\n",
       "      <td>0</td>\n",
       "      <td>0</td>\n",
       "      <td>Yes</td>\n",
       "      <td>Self-employed</td>\n",
       "      <td>Rural</td>\n",
       "      <td>202.21</td>\n",
       "      <td>NaN</td>\n",
       "      <td>never smoked</td>\n",
       "      <td>1</td>\n",
       "    </tr>\n",
       "    <tr>\n",
       "      <th>2</th>\n",
       "      <td>31112</td>\n",
       "      <td>Male</td>\n",
       "      <td>80.0</td>\n",
       "      <td>0</td>\n",
       "      <td>1</td>\n",
       "      <td>Yes</td>\n",
       "      <td>Private</td>\n",
       "      <td>Rural</td>\n",
       "      <td>105.92</td>\n",
       "      <td>32.5</td>\n",
       "      <td>never smoked</td>\n",
       "      <td>1</td>\n",
       "    </tr>\n",
       "    <tr>\n",
       "      <th>3</th>\n",
       "      <td>60182</td>\n",
       "      <td>Female</td>\n",
       "      <td>49.0</td>\n",
       "      <td>0</td>\n",
       "      <td>0</td>\n",
       "      <td>Yes</td>\n",
       "      <td>Private</td>\n",
       "      <td>Urban</td>\n",
       "      <td>171.23</td>\n",
       "      <td>34.4</td>\n",
       "      <td>smokes</td>\n",
       "      <td>1</td>\n",
       "    </tr>\n",
       "    <tr>\n",
       "      <th>4</th>\n",
       "      <td>1665</td>\n",
       "      <td>Female</td>\n",
       "      <td>79.0</td>\n",
       "      <td>1</td>\n",
       "      <td>0</td>\n",
       "      <td>Yes</td>\n",
       "      <td>Self-employed</td>\n",
       "      <td>Rural</td>\n",
       "      <td>174.12</td>\n",
       "      <td>24.0</td>\n",
       "      <td>never smoked</td>\n",
       "      <td>1</td>\n",
       "    </tr>\n",
       "  </tbody>\n",
       "</table>\n",
       "</div>"
      ],
      "text/plain": [
       "      id  gender   age  hypertension  heart_disease ever_married  \\\n",
       "0   9046    Male  67.0             0              1          Yes   \n",
       "1  51676  Female  61.0             0              0          Yes   \n",
       "2  31112    Male  80.0             0              1          Yes   \n",
       "3  60182  Female  49.0             0              0          Yes   \n",
       "4   1665  Female  79.0             1              0          Yes   \n",
       "\n",
       "       work_type Residence_type  avg_glucose_level   bmi   smoking_status  \\\n",
       "0        Private          Urban             228.69  36.6  formerly smoked   \n",
       "1  Self-employed          Rural             202.21   NaN     never smoked   \n",
       "2        Private          Rural             105.92  32.5     never smoked   \n",
       "3        Private          Urban             171.23  34.4           smokes   \n",
       "4  Self-employed          Rural             174.12  24.0     never smoked   \n",
       "\n",
       "   stroke  \n",
       "0       1  \n",
       "1       1  \n",
       "2       1  \n",
       "3       1  \n",
       "4       1  "
      ]
     },
     "execution_count": 3,
     "metadata": {},
     "output_type": "execute_result"
    }
   ],
   "source": [
    "stroke.head()"
   ]
  },
  {
   "cell_type": "code",
   "execution_count": 4,
   "id": "mounted-torture",
   "metadata": {
    "ExecuteTime": {
     "end_time": "2021-03-21T16:36:55.283250Z",
     "start_time": "2021-03-21T16:36:55.254776Z"
    }
   },
   "outputs": [
    {
     "name": "stdout",
     "output_type": "stream",
     "text": [
      "<class 'pandas.core.frame.DataFrame'>\n",
      "RangeIndex: 5110 entries, 0 to 5109\n",
      "Data columns (total 12 columns):\n",
      " #   Column             Non-Null Count  Dtype  \n",
      "---  ------             --------------  -----  \n",
      " 0   id                 5110 non-null   int64  \n",
      " 1   gender             5110 non-null   object \n",
      " 2   age                5110 non-null   float64\n",
      " 3   hypertension       5110 non-null   int64  \n",
      " 4   heart_disease      5110 non-null   int64  \n",
      " 5   ever_married       5110 non-null   object \n",
      " 6   work_type          5110 non-null   object \n",
      " 7   Residence_type     5110 non-null   object \n",
      " 8   avg_glucose_level  5110 non-null   float64\n",
      " 9   bmi                4909 non-null   float64\n",
      " 10  smoking_status     5110 non-null   object \n",
      " 11  stroke             5110 non-null   int64  \n",
      "dtypes: float64(3), int64(4), object(5)\n",
      "memory usage: 479.2+ KB\n"
     ]
    }
   ],
   "source": [
    "stroke.info()"
   ]
  },
  {
   "cell_type": "code",
   "execution_count": 5,
   "id": "oriental-determination",
   "metadata": {
    "ExecuteTime": {
     "end_time": "2021-03-21T16:36:55.330944Z",
     "start_time": "2021-03-21T16:36:55.285249Z"
    }
   },
   "outputs": [
    {
     "data": {
      "text/html": [
       "<div>\n",
       "<style scoped>\n",
       "    .dataframe tbody tr th:only-of-type {\n",
       "        vertical-align: middle;\n",
       "    }\n",
       "\n",
       "    .dataframe tbody tr th {\n",
       "        vertical-align: top;\n",
       "    }\n",
       "\n",
       "    .dataframe thead th {\n",
       "        text-align: right;\n",
       "    }\n",
       "</style>\n",
       "<table border=\"1\" class=\"dataframe\">\n",
       "  <thead>\n",
       "    <tr style=\"text-align: right;\">\n",
       "      <th></th>\n",
       "      <th>id</th>\n",
       "      <th>age</th>\n",
       "      <th>hypertension</th>\n",
       "      <th>heart_disease</th>\n",
       "      <th>avg_glucose_level</th>\n",
       "      <th>bmi</th>\n",
       "      <th>stroke</th>\n",
       "    </tr>\n",
       "  </thead>\n",
       "  <tbody>\n",
       "    <tr>\n",
       "      <th>count</th>\n",
       "      <td>5110.000000</td>\n",
       "      <td>5110.000000</td>\n",
       "      <td>5110.000000</td>\n",
       "      <td>5110.000000</td>\n",
       "      <td>5110.000000</td>\n",
       "      <td>4909.000000</td>\n",
       "      <td>5110.000000</td>\n",
       "    </tr>\n",
       "    <tr>\n",
       "      <th>mean</th>\n",
       "      <td>36517.829354</td>\n",
       "      <td>43.226614</td>\n",
       "      <td>0.097456</td>\n",
       "      <td>0.054012</td>\n",
       "      <td>106.147677</td>\n",
       "      <td>28.893237</td>\n",
       "      <td>0.048728</td>\n",
       "    </tr>\n",
       "    <tr>\n",
       "      <th>std</th>\n",
       "      <td>21161.721625</td>\n",
       "      <td>22.612647</td>\n",
       "      <td>0.296607</td>\n",
       "      <td>0.226063</td>\n",
       "      <td>45.283560</td>\n",
       "      <td>7.854067</td>\n",
       "      <td>0.215320</td>\n",
       "    </tr>\n",
       "    <tr>\n",
       "      <th>min</th>\n",
       "      <td>67.000000</td>\n",
       "      <td>0.080000</td>\n",
       "      <td>0.000000</td>\n",
       "      <td>0.000000</td>\n",
       "      <td>55.120000</td>\n",
       "      <td>10.300000</td>\n",
       "      <td>0.000000</td>\n",
       "    </tr>\n",
       "    <tr>\n",
       "      <th>25%</th>\n",
       "      <td>17741.250000</td>\n",
       "      <td>25.000000</td>\n",
       "      <td>0.000000</td>\n",
       "      <td>0.000000</td>\n",
       "      <td>77.245000</td>\n",
       "      <td>23.500000</td>\n",
       "      <td>0.000000</td>\n",
       "    </tr>\n",
       "    <tr>\n",
       "      <th>50%</th>\n",
       "      <td>36932.000000</td>\n",
       "      <td>45.000000</td>\n",
       "      <td>0.000000</td>\n",
       "      <td>0.000000</td>\n",
       "      <td>91.885000</td>\n",
       "      <td>28.100000</td>\n",
       "      <td>0.000000</td>\n",
       "    </tr>\n",
       "    <tr>\n",
       "      <th>75%</th>\n",
       "      <td>54682.000000</td>\n",
       "      <td>61.000000</td>\n",
       "      <td>0.000000</td>\n",
       "      <td>0.000000</td>\n",
       "      <td>114.090000</td>\n",
       "      <td>33.100000</td>\n",
       "      <td>0.000000</td>\n",
       "    </tr>\n",
       "    <tr>\n",
       "      <th>max</th>\n",
       "      <td>72940.000000</td>\n",
       "      <td>82.000000</td>\n",
       "      <td>1.000000</td>\n",
       "      <td>1.000000</td>\n",
       "      <td>271.740000</td>\n",
       "      <td>97.600000</td>\n",
       "      <td>1.000000</td>\n",
       "    </tr>\n",
       "  </tbody>\n",
       "</table>\n",
       "</div>"
      ],
      "text/plain": [
       "                 id          age  hypertension  heart_disease  \\\n",
       "count   5110.000000  5110.000000   5110.000000    5110.000000   \n",
       "mean   36517.829354    43.226614      0.097456       0.054012   \n",
       "std    21161.721625    22.612647      0.296607       0.226063   \n",
       "min       67.000000     0.080000      0.000000       0.000000   \n",
       "25%    17741.250000    25.000000      0.000000       0.000000   \n",
       "50%    36932.000000    45.000000      0.000000       0.000000   \n",
       "75%    54682.000000    61.000000      0.000000       0.000000   \n",
       "max    72940.000000    82.000000      1.000000       1.000000   \n",
       "\n",
       "       avg_glucose_level          bmi       stroke  \n",
       "count        5110.000000  4909.000000  5110.000000  \n",
       "mean          106.147677    28.893237     0.048728  \n",
       "std            45.283560     7.854067     0.215320  \n",
       "min            55.120000    10.300000     0.000000  \n",
       "25%            77.245000    23.500000     0.000000  \n",
       "50%            91.885000    28.100000     0.000000  \n",
       "75%           114.090000    33.100000     0.000000  \n",
       "max           271.740000    97.600000     1.000000  "
      ]
     },
     "execution_count": 5,
     "metadata": {},
     "output_type": "execute_result"
    }
   ],
   "source": [
    "stroke.describe()"
   ]
  },
  {
   "cell_type": "code",
   "execution_count": 6,
   "id": "powerful-kelly",
   "metadata": {
    "ExecuteTime": {
     "end_time": "2021-03-21T16:36:55.346908Z",
     "start_time": "2021-03-21T16:36:55.332919Z"
    }
   },
   "outputs": [
    {
     "data": {
      "text/plain": [
       "(5110, 12)"
      ]
     },
     "execution_count": 6,
     "metadata": {},
     "output_type": "execute_result"
    }
   ],
   "source": [
    "stroke.shape"
   ]
  },
  {
   "cell_type": "markdown",
   "id": "subtle-lover",
   "metadata": {},
   "source": [
    "# Cleaning of Data"
   ]
  },
  {
   "cell_type": "code",
   "execution_count": 7,
   "id": "exact-english",
   "metadata": {
    "ExecuteTime": {
     "end_time": "2021-03-21T16:36:55.362829Z",
     "start_time": "2021-03-21T16:36:55.348909Z"
    }
   },
   "outputs": [
    {
     "data": {
      "text/plain": [
       "id                     0\n",
       "gender                 0\n",
       "age                    0\n",
       "hypertension           0\n",
       "heart_disease          0\n",
       "ever_married           0\n",
       "work_type              0\n",
       "Residence_type         0\n",
       "avg_glucose_level      0\n",
       "bmi                  201\n",
       "smoking_status         0\n",
       "stroke                 0\n",
       "dtype: int64"
      ]
     },
     "execution_count": 7,
     "metadata": {},
     "output_type": "execute_result"
    }
   ],
   "source": [
    "stroke.isnull().sum()"
   ]
  },
  {
   "cell_type": "code",
   "execution_count": 8,
   "id": "jewish-cooper",
   "metadata": {
    "ExecuteTime": {
     "end_time": "2021-03-21T16:36:55.378827Z",
     "start_time": "2021-03-21T16:36:55.365830Z"
    }
   },
   "outputs": [],
   "source": [
    "stroke.bmi.replace(to_replace=np.nan, value=stroke.bmi.mean(), inplace=True)"
   ]
  },
  {
   "cell_type": "code",
   "execution_count": 9,
   "id": "blond-respondent",
   "metadata": {
    "ExecuteTime": {
     "end_time": "2021-03-21T16:36:55.394662Z",
     "start_time": "2021-03-21T16:36:55.382016Z"
    }
   },
   "outputs": [
    {
     "data": {
      "text/plain": [
       "id                   0\n",
       "gender               0\n",
       "age                  0\n",
       "hypertension         0\n",
       "heart_disease        0\n",
       "ever_married         0\n",
       "work_type            0\n",
       "Residence_type       0\n",
       "avg_glucose_level    0\n",
       "bmi                  0\n",
       "smoking_status       0\n",
       "stroke               0\n",
       "dtype: int64"
      ]
     },
     "execution_count": 9,
     "metadata": {},
     "output_type": "execute_result"
    }
   ],
   "source": [
    "stroke.isnull().sum()"
   ]
  },
  {
   "cell_type": "markdown",
   "id": "sorted-alignment",
   "metadata": {},
   "source": [
    "# Exploratory Data Analysis"
   ]
  },
  {
   "cell_type": "code",
   "execution_count": 10,
   "id": "opposite-ecology",
   "metadata": {
    "ExecuteTime": {
     "end_time": "2021-03-21T16:36:55.425966Z",
     "start_time": "2021-03-21T16:36:55.396665Z"
    }
   },
   "outputs": [
    {
     "data": {
      "text/plain": [
       "id                   5110\n",
       "gender                  3\n",
       "age                   104\n",
       "hypertension            2\n",
       "heart_disease           2\n",
       "ever_married            2\n",
       "work_type               5\n",
       "Residence_type          2\n",
       "avg_glucose_level    3979\n",
       "bmi                   419\n",
       "smoking_status          4\n",
       "stroke                  2\n",
       "dtype: int64"
      ]
     },
     "execution_count": 10,
     "metadata": {},
     "output_type": "execute_result"
    }
   ],
   "source": [
    "stroke.nunique()"
   ]
  },
  {
   "cell_type": "code",
   "execution_count": 11,
   "id": "resistant-letters",
   "metadata": {
    "ExecuteTime": {
     "end_time": "2021-03-21T16:36:55.442017Z",
     "start_time": "2021-03-21T16:36:55.426966Z"
    }
   },
   "outputs": [
    {
     "data": {
      "text/plain": [
       "0    4861\n",
       "1     249\n",
       "Name: stroke, dtype: int64"
      ]
     },
     "execution_count": 11,
     "metadata": {},
     "output_type": "execute_result"
    }
   ],
   "source": [
    "stroke.stroke.value_counts()"
   ]
  },
  {
   "cell_type": "markdown",
   "id": "rapid-release",
   "metadata": {},
   "source": [
    "**Our data is imbalanced.**"
   ]
  },
  {
   "cell_type": "code",
   "execution_count": 12,
   "id": "constant-activity",
   "metadata": {
    "ExecuteTime": {
     "end_time": "2021-03-21T16:36:55.457969Z",
     "start_time": "2021-03-21T16:36:55.444967Z"
    }
   },
   "outputs": [
    {
     "data": {
      "text/plain": [
       "array(['Male', 'Female', 'Other'], dtype=object)"
      ]
     },
     "execution_count": 12,
     "metadata": {},
     "output_type": "execute_result"
    }
   ],
   "source": [
    "stroke.gender.unique()"
   ]
  },
  {
   "cell_type": "code",
   "execution_count": 13,
   "id": "asian-rally",
   "metadata": {
    "ExecuteTime": {
     "end_time": "2021-03-21T16:36:55.473242Z",
     "start_time": "2021-03-21T16:36:55.461040Z"
    }
   },
   "outputs": [
    {
     "data": {
      "text/plain": [
       "array([0, 1], dtype=int64)"
      ]
     },
     "execution_count": 13,
     "metadata": {},
     "output_type": "execute_result"
    }
   ],
   "source": [
    "stroke.hypertension.unique()"
   ]
  },
  {
   "cell_type": "code",
   "execution_count": 14,
   "id": "fancy-county",
   "metadata": {
    "ExecuteTime": {
     "end_time": "2021-03-21T16:36:55.488811Z",
     "start_time": "2021-03-21T16:36:55.475241Z"
    }
   },
   "outputs": [
    {
     "data": {
      "text/plain": [
       "array([1, 0], dtype=int64)"
      ]
     },
     "execution_count": 14,
     "metadata": {},
     "output_type": "execute_result"
    }
   ],
   "source": [
    "stroke.heart_disease.unique()"
   ]
  },
  {
   "cell_type": "code",
   "execution_count": 15,
   "id": "exotic-consumption",
   "metadata": {
    "ExecuteTime": {
     "end_time": "2021-03-21T16:36:55.503901Z",
     "start_time": "2021-03-21T16:36:55.490816Z"
    }
   },
   "outputs": [
    {
     "data": {
      "text/plain": [
       "array(['Yes', 'No'], dtype=object)"
      ]
     },
     "execution_count": 15,
     "metadata": {},
     "output_type": "execute_result"
    }
   ],
   "source": [
    "stroke.ever_married.unique()"
   ]
  },
  {
   "cell_type": "code",
   "execution_count": 16,
   "id": "false-martin",
   "metadata": {
    "ExecuteTime": {
     "end_time": "2021-03-21T16:36:55.519100Z",
     "start_time": "2021-03-21T16:36:55.505904Z"
    }
   },
   "outputs": [
    {
     "data": {
      "text/plain": [
       "array(['Private', 'Self-employed', 'Govt_job', 'children', 'Never_worked'],\n",
       "      dtype=object)"
      ]
     },
     "execution_count": 16,
     "metadata": {},
     "output_type": "execute_result"
    }
   ],
   "source": [
    "stroke.work_type.unique()"
   ]
  },
  {
   "cell_type": "code",
   "execution_count": 17,
   "id": "static-vietnamese",
   "metadata": {
    "ExecuteTime": {
     "end_time": "2021-03-21T16:36:55.534834Z",
     "start_time": "2021-03-21T16:36:55.522323Z"
    }
   },
   "outputs": [
    {
     "data": {
      "text/plain": [
       "array(['Urban', 'Rural'], dtype=object)"
      ]
     },
     "execution_count": 17,
     "metadata": {},
     "output_type": "execute_result"
    }
   ],
   "source": [
    "stroke.Residence_type.unique()"
   ]
  },
  {
   "cell_type": "code",
   "execution_count": 18,
   "id": "excellent-preference",
   "metadata": {
    "ExecuteTime": {
     "end_time": "2021-03-21T16:36:55.550011Z",
     "start_time": "2021-03-21T16:36:55.535834Z"
    }
   },
   "outputs": [
    {
     "data": {
      "text/plain": [
       "array(['formerly smoked', 'never smoked', 'smokes', 'Unknown'],\n",
       "      dtype=object)"
      ]
     },
     "execution_count": 18,
     "metadata": {},
     "output_type": "execute_result"
    }
   ],
   "source": [
    "stroke.smoking_status.unique()"
   ]
  },
  {
   "cell_type": "markdown",
   "id": "listed-growth",
   "metadata": {},
   "source": [
    "## Univariate  Analysis"
   ]
  },
  {
   "cell_type": "markdown",
   "id": "verbal-therapy",
   "metadata": {},
   "source": [
    "### Boxplot of bmi"
   ]
  },
  {
   "cell_type": "code",
   "execution_count": 19,
   "id": "maritime-scroll",
   "metadata": {
    "ExecuteTime": {
     "end_time": "2021-03-21T16:36:55.722254Z",
     "start_time": "2021-03-21T16:36:55.552847Z"
    }
   },
   "outputs": [
    {
     "data": {
      "image/png": "[encoded data removed]",
      "text/plain": [
       "<Figure size 432x288 with 1 Axes>"
      ]
     },
     "metadata": {
      "needs_background": "light"
     },
     "output_type": "display_data"
    }
   ],
   "source": [
    "sns.boxplot(data=stroke, y='bmi')\n",
    "plt.title('Boxplot of bmi')\n",
    "plt.show()"
   ]
  },
  {
   "cell_type": "code",
   "execution_count": 20,
   "id": "monetary-entrepreneur",
   "metadata": {
    "ExecuteTime": {
     "end_time": "2021-03-21T16:36:55.737866Z",
     "start_time": "2021-03-21T16:36:55.724135Z"
    }
   },
   "outputs": [
    {
     "name": "stdout",
     "output_type": "stream",
     "text": [
      "The 0th percentile of BMI is: 10.3\n",
      "The 10th percentile of BMI is: 19.890000000000004\n",
      "The 20th percentile of BMI is: 22.7\n",
      "The 30th percentile of BMI is: 24.8\n",
      "The 40th percentile of BMI is: 26.699999999999996\n",
      "The 50th percentile of BMI is: 28.4\n",
      "The 60th percentile of BMI is: 29.5\n",
      "The 70th percentile of BMI is: 31.6\n",
      "The 80th percentile of BMI is: 34.3\n",
      "The 90th percentile of BMI is: 38.7\n",
      "The 100th percentile of BMI is: 97.6\n"
     ]
    }
   ],
   "source": [
    "for i in range(0, 110, 10):\n",
    "    print(f'The {i}th percentile of BMI is: {np.percentile(stroke.bmi, i)}')"
   ]
  },
  {
   "cell_type": "code",
   "execution_count": 21,
   "id": "moving-session",
   "metadata": {
    "ExecuteTime": {
     "end_time": "2021-03-21T16:36:55.753955Z",
     "start_time": "2021-03-21T16:36:55.738863Z"
    }
   },
   "outputs": [
    {
     "name": "stdout",
     "output_type": "stream",
     "text": [
      "The 90th percentile of BMI is: 38.7\n",
      "The 91th percentile of BMI is: 39.3\n",
      "The 92th percentile of BMI is: 40.0\n",
      "The 93th percentile of BMI is: 40.8\n",
      "The 94th percentile of BMI is: 41.7\n",
      "The 95th percentile of BMI is: 42.65500000000002\n",
      "The 96th percentile of BMI is: 43.8\n",
      "The 97th percentile of BMI is: 45.1\n",
      "The 98th percentile of BMI is: 48.08199999999997\n",
      "The 99th percentile of BMI is: 52.890999999999984\n",
      "The 100th percentile of BMI is: 97.6\n"
     ]
    }
   ],
   "source": [
    "for i in range(90, 101, 1):\n",
    "    print(f'The {i}th percentile of BMI is: {np.percentile(stroke.bmi, i)}')"
   ]
  },
  {
   "cell_type": "code",
   "execution_count": 22,
   "id": "aware-tuning",
   "metadata": {
    "ExecuteTime": {
     "end_time": "2021-03-21T16:36:55.769277Z",
     "start_time": "2021-03-21T16:36:55.754955Z"
    }
   },
   "outputs": [
    {
     "name": "stdout",
     "output_type": "stream",
     "text": [
      "The 99.0th percentile of BMI is: 52.890999999999984\n",
      "The 99.1th percentile of BMI is: 53.801900000000025\n",
      "The 99.2th percentile of BMI is: 54.33839999999991\n",
      "The 99.3th percentile of BMI is: 54.72370000000001\n",
      "The 99.4th percentile of BMI is: 55.37300000000023\n",
      "The 99.5th percentile of BMI is: 55.9\n",
      "The 99.6th percentile of BMI is: 56.938400000000186\n",
      "The 99.7th percentile of BMI is: 57.83459999999995\n",
      "The 99.8th percentile of BMI is: 60.9\n",
      "The 99.9th percentile of BMI is: 64.75640000000021\n",
      "The 100.0th percentile of BMI is: 97.6\n"
     ]
    }
   ],
   "source": [
    "for i in np.arange(0, 1.1, 0.1):\n",
    "    print(f'The {99+i}th percentile of BMI is: {np.percentile(stroke.bmi, 99+i)}')"
   ]
  },
  {
   "cell_type": "markdown",
   "id": "celtic-dynamics",
   "metadata": {},
   "source": [
    "**From the above calculations we can see that 99.9% of people have BMI less than 65.**"
   ]
  },
  {
   "cell_type": "markdown",
   "id": "significant-ceiling",
   "metadata": {},
   "source": [
    "### Boxplot of Average Glucose Level"
   ]
  },
  {
   "cell_type": "code",
   "execution_count": 23,
   "id": "moderate-surgeon",
   "metadata": {
    "ExecuteTime": {
     "end_time": "2021-03-21T16:36:55.980262Z",
     "start_time": "2021-03-21T16:36:55.774924Z"
    }
   },
   "outputs": [
    {
     "data": {
      "image/png": "[encoded data removed]",
      "text/plain": [
       "<Figure size 432x288 with 1 Axes>"
      ]
     },
     "metadata": {
      "needs_background": "light"
     },
     "output_type": "display_data"
    }
   ],
   "source": [
    "sns.boxplot(data=stroke, y='avg_glucose_level')\n",
    "plt.title('Boxplot of avg_glucose_level')\n",
    "plt.show()"
   ]
  },
  {
   "cell_type": "code",
   "execution_count": 24,
   "id": "floral-campaign",
   "metadata": {
    "ExecuteTime": {
     "end_time": "2021-03-21T16:36:56.010137Z",
     "start_time": "2021-03-21T16:36:55.981753Z"
    }
   },
   "outputs": [
    {
     "name": "stdout",
     "output_type": "stream",
     "text": [
      "The 0th percentile of Average Glucose Level is: 55.12\n",
      "The 10th percentile of Average Glucose Level is: 65.789\n",
      "The 20th percentile of Average Glucose Level is: 73.76\n",
      "The 30th percentile of Average Glucose Level is: 80.03800000000001\n",
      "The 40th percentile of Average Glucose Level is: 85.6\n",
      "The 50th percentile of Average Glucose Level is: 91.88499999999999\n",
      "The 60th percentile of Average Glucose Level is: 98.914\n",
      "The 70th percentile of Average Glucose Level is: 108.51599999999999\n",
      "The 80th percentile of Average Glucose Level is: 124.16\n",
      "The 90th percentile of Average Glucose Level is: 192.1810000000001\n",
      "The 100th percentile of Average Glucose Level is: 271.74\n"
     ]
    }
   ],
   "source": [
    "for i in range(0, 110, 10):\n",
    "    print(f'The {i}th percentile of Average Glucose Level is: {np.percentile(stroke.avg_glucose_level, i)}')"
   ]
  },
  {
   "cell_type": "code",
   "execution_count": 25,
   "id": "sustained-definition",
   "metadata": {
    "ExecuteTime": {
     "end_time": "2021-03-21T16:36:56.030281Z",
     "start_time": "2021-03-21T16:36:56.012212Z"
    }
   },
   "outputs": [
    {
     "name": "stdout",
     "output_type": "stream",
     "text": [
      "The 90th percentile of Average Glucose Level is: 192.1810000000001\n",
      "The 91th percentile of Average Glucose Level is: 197.54760000000002\n",
      "The 92th percentile of Average Glucose Level is: 202.1020000000001\n",
      "The 93th percentile of Average Glucose Level is: 206.43329999999997\n",
      "The 94th percentile of Average Glucose Level is: 210.9546\n",
      "The 95th percentile of Average Glucose Level is: 216.29450000000003\n",
      "The 96th percentile of Average Glucose Level is: 220.14279999999985\n",
      "The 97th percentile of Average Glucose Level is: 226.86919999999998\n",
      "The 98th percentile of Average Glucose Level is: 231.91579999999993\n",
      "The 99th percentile of Average Glucose Level is: 240.7082\n",
      "The 100th percentile of Average Glucose Level is: 271.74\n"
     ]
    }
   ],
   "source": [
    "for i in range(90, 101):\n",
    "    print(f'The {i}th percentile of Average Glucose Level is: {np.percentile(stroke.avg_glucose_level, i)}')"
   ]
  },
  {
   "cell_type": "code",
   "execution_count": 26,
   "id": "brave-robert",
   "metadata": {
    "ExecuteTime": {
     "end_time": "2021-03-21T16:36:56.049159Z",
     "start_time": "2021-03-21T16:36:56.030803Z"
    }
   },
   "outputs": [
    {
     "name": "stdout",
     "output_type": "stream",
     "text": [
      "The 99.0th percentile of Average Glucose Level is: 240.7082\n",
      "The 99.1th percentile of Average Glucose Level is: 242.62418000000005\n",
      "The 99.2th percentile of Average Glucose Level is: 243.5364\n",
      "The 99.3th percentile of Average Glucose Level is: 244.78348000000017\n",
      "The 99.4th percentile of Average Glucose Level is: 247.7522800000001\n",
      "The 99.5th percentile of Average Glucose Level is: 249.29909999999998\n",
      "The 99.6th percentile of Average Glucose Level is: 251.53896000000003\n",
      "The 99.7th percentile of Average Glucose Level is: 253.90711\n",
      "The 99.8th percentile of Average Glucose Level is: 256.3977400000002\n",
      "The 99.9th percentile of Average Glucose Level is: 263.5338400000001\n",
      "The 100.0th percentile of Average Glucose Level is: 271.74\n"
     ]
    }
   ],
   "source": [
    "for i in np.arange(0, 1.1, 0.1):\n",
    "    print(f'The {99+i}th percentile of Average Glucose Level is: {np.percentile(stroke.avg_glucose_level, 99+i)}')"
   ]
  },
  {
   "cell_type": "markdown",
   "id": "therapeutic-electron",
   "metadata": {},
   "source": [
    "### Boxplot of age"
   ]
  },
  {
   "cell_type": "code",
   "execution_count": 27,
   "id": "turkish-belle",
   "metadata": {
    "ExecuteTime": {
     "end_time": "2021-03-21T16:36:56.149287Z",
     "start_time": "2021-03-21T16:36:56.050707Z"
    }
   },
   "outputs": [
    {
     "data": {
      "image/png": "[encoded data removed]",
      "text/plain": [
       "<Figure size 432x288 with 1 Axes>"
      ]
     },
     "metadata": {
      "needs_background": "light"
     },
     "output_type": "display_data"
    }
   ],
   "source": [
    "sns.boxplot(data=stroke, y='age')\n",
    "plt.title('Boxplot of age')\n",
    "plt.show()"
   ]
  },
  {
   "cell_type": "markdown",
   "id": "logical-individual",
   "metadata": {},
   "source": [
    "## Bivariate Analysis"
   ]
  },
  {
   "cell_type": "markdown",
   "id": "incident-destination",
   "metadata": {},
   "source": [
    "### Hypertension vs Stroke"
   ]
  },
  {
   "cell_type": "code",
   "execution_count": 28,
   "id": "thorough-samuel",
   "metadata": {
    "ExecuteTime": {
     "end_time": "2021-03-21T16:36:56.390202Z",
     "start_time": "2021-03-21T16:36:56.150815Z"
    }
   },
   "outputs": [
    {
     "data": {
      "text/plain": [
       "Text(0.5, 1.0, 'Effect of Hypertension on Stroke')"
      ]
     },
     "execution_count": 28,
     "metadata": {},
     "output_type": "execute_result"
    },
    {
     "data": {
      "image/png": "[encoded data removed]",
      "text/plain": [
       "<Figure size 432x288 with 1 Axes>"
      ]
     },
     "metadata": {
      "needs_background": "light"
     },
     "output_type": "display_data"
    }
   ],
   "source": [
    "plots = sns.countplot(x='hypertension', hue='stroke', data=stroke)\n",
    "\n",
    "for bar in plots.patches:\n",
    "    plots.annotate(f'{round(bar.get_height()/len(stroke)*100,2)} %', xy=(bar.get_x() + bar.get_width() / 2,  \n",
    "                   bar.get_height()), ha='center', va='center', size=13, xytext=(0, 8), textcoords='offset points')\n",
    "\n",
    "    \n",
    "plt.title('Effect of Hypertension on Stroke')"
   ]
  },
  {
   "cell_type": "markdown",
   "id": "simple-novelty",
   "metadata": {},
   "source": [
    "### Gender vs Stroke"
   ]
  },
  {
   "cell_type": "code",
   "execution_count": 29,
   "id": "increased-claim",
   "metadata": {
    "ExecuteTime": {
     "end_time": "2021-03-21T16:36:56.670210Z",
     "start_time": "2021-03-21T16:36:56.392343Z"
    }
   },
   "outputs": [
    {
     "data": {
      "text/plain": [
       "Text(0.5, 1.0, 'Stroke based on Gender')"
      ]
     },
     "execution_count": 29,
     "metadata": {},
     "output_type": "execute_result"
    },
    {
     "data": {
      "image/png": "[encoded data removed]",
      "text/plain": [
       "<Figure size 432x288 with 1 Axes>"
      ]
     },
     "metadata": {
      "needs_background": "light"
     },
     "output_type": "display_data"
    }
   ],
   "source": [
    "plots = sns.countplot(x='gender', hue='stroke', data=stroke)\n",
    "\n",
    "for bar in plots.patches:\n",
    "    plots.annotate(f'{round(bar.get_height()/len(stroke)*100,2)} %', xy=(bar.get_x() + bar.get_width() / 2,  \n",
    "                   bar.get_height()), ha='center', va='center', size=13, xytext=(0, 8), textcoords='offset points')\n",
    "\n",
    "plt.title('Stroke based on Gender')"
   ]
  },
  {
   "cell_type": "markdown",
   "id": "smooth-purchase",
   "metadata": {},
   "source": [
    "### Heart Disease vs Stroke"
   ]
  },
  {
   "cell_type": "code",
   "execution_count": 30,
   "id": "seven-somerset",
   "metadata": {
    "ExecuteTime": {
     "end_time": "2021-03-21T16:36:56.855009Z",
     "start_time": "2021-03-21T16:36:56.670734Z"
    }
   },
   "outputs": [
    {
     "data": {
      "text/plain": [
       "Text(0.5, 1.0, 'Effect of Heart Disease on Stroke')"
      ]
     },
     "execution_count": 30,
     "metadata": {},
     "output_type": "execute_result"
    },
    {
     "data": {
      "image/png": "[encoded data removed]",
      "text/plain": [
       "<Figure size 432x288 with 1 Axes>"
      ]
     },
     "metadata": {
      "needs_background": "light"
     },
     "output_type": "display_data"
    }
   ],
   "source": [
    "plots = sns.countplot(x='heart_disease', hue='stroke', data=stroke)\n",
    "\n",
    "for bar in plots.patches:\n",
    "    plots.annotate(f'{round(bar.get_height()/len(stroke)*100,2)} %', xy=(bar.get_x() + bar.get_width() / 2,  \n",
    "                   bar.get_height()), ha='center', va='center', size=13, xytext=(0, 8), textcoords='offset points')\n",
    "\n",
    "plt.title('Effect of Heart Disease on Stroke')"
   ]
  },
  {
   "cell_type": "markdown",
   "id": "opened-horror",
   "metadata": {},
   "source": [
    "### Marital Status vs Stroke"
   ]
  },
  {
   "cell_type": "code",
   "execution_count": 31,
   "id": "following-colorado",
   "metadata": {
    "ExecuteTime": {
     "end_time": "2021-03-21T16:36:57.042482Z",
     "start_time": "2021-03-21T16:36:56.855009Z"
    }
   },
   "outputs": [
    {
     "data": {
      "text/plain": [
       "Text(0.5, 1.0, 'Effect of Marital Status on Stroke')"
      ]
     },
     "execution_count": 31,
     "metadata": {},
     "output_type": "execute_result"
    },
    {
     "data": {
      "image/png": "[encoded data removed]",
      "text/plain": [
       "<Figure size 432x288 with 1 Axes>"
      ]
     },
     "metadata": {
      "needs_background": "light"
     },
     "output_type": "display_data"
    }
   ],
   "source": [
    "plots = sns.countplot(x='ever_married', hue='stroke', data=stroke)\n",
    "\n",
    "for bar in plots.patches:\n",
    "    plots.annotate(f'{round(bar.get_height()/len(stroke)*100,2)} %', xy=(bar.get_x() + bar.get_width() / 2,  \n",
    "                   bar.get_height()), ha='center', va='center', size=13, xytext=(0, 8), textcoords='offset points')\n",
    "\n",
    "plt.title('Effect of Marital Status on Stroke')"
   ]
  },
  {
   "cell_type": "markdown",
   "id": "proprietary-falls",
   "metadata": {},
   "source": [
    "### Residence Type vs Stroke"
   ]
  },
  {
   "cell_type": "code",
   "execution_count": 32,
   "id": "applicable-buyer",
   "metadata": {
    "ExecuteTime": {
     "end_time": "2021-03-21T16:36:57.199800Z",
     "start_time": "2021-03-21T16:36:57.043483Z"
    }
   },
   "outputs": [
    {
     "data": {
      "text/plain": [
       "Text(0.5, 1.0, 'Effect of Residence Type on Stroke')"
      ]
     },
     "execution_count": 32,
     "metadata": {},
     "output_type": "execute_result"
    },
    {
     "data": {
      "image/png": "[encoded data removed]",
      "text/plain": [
       "<Figure size 432x288 with 1 Axes>"
      ]
     },
     "metadata": {
      "needs_background": "light"
     },
     "output_type": "display_data"
    }
   ],
   "source": [
    "plots = sns.countplot(x='Residence_type', hue='stroke', data=stroke)\n",
    "\n",
    "for bar in plots.patches:\n",
    "    plots.annotate(f'{round(bar.get_height()/len(stroke)*100,2)} %', xy=(bar.get_x() + bar.get_width() / 2,  \n",
    "                   bar.get_height()), ha='center', va='center', size=13, xytext=(0, 8), textcoords='offset points')\n",
    "\n",
    "plt.title('Effect of Residence Type on Stroke')"
   ]
  },
  {
   "cell_type": "markdown",
   "id": "handy-aquatic",
   "metadata": {},
   "source": [
    "### Work Type vs Stroke"
   ]
  },
  {
   "cell_type": "code",
   "execution_count": 33,
   "id": "impressed-hearts",
   "metadata": {
    "ExecuteTime": {
     "end_time": "2021-03-21T16:36:57.388628Z",
     "start_time": "2021-03-21T16:36:57.201763Z"
    }
   },
   "outputs": [
    {
     "data": {
      "text/plain": [
       "Text(0.5, 1.0, 'Work Type of People')"
      ]
     },
     "execution_count": 33,
     "metadata": {},
     "output_type": "execute_result"
    },
    {
     "data": {
      "image/png": "[encoded data removed]",
      "text/plain": [
       "<Figure size 432x288 with 1 Axes>"
      ]
     },
     "metadata": {
      "needs_background": "light"
     },
     "output_type": "display_data"
    }
   ],
   "source": [
    "plots = sns.countplot(x='work_type', data=stroke)\n",
    "\n",
    "for bar in plots.patches:\n",
    "    plots.annotate(f'{round(bar.get_height()/len(stroke)*100,2)} %', xy=(bar.get_x() + bar.get_width() / 2,  \n",
    "                   bar.get_height()), ha='center', va='center', size=13, xytext=(0, 8), textcoords='offset points')\n",
    "\n",
    "plt.title('Work Type of People')"
   ]
  },
  {
   "cell_type": "code",
   "execution_count": 34,
   "id": "marine-drama",
   "metadata": {
    "ExecuteTime": {
     "end_time": "2021-03-21T16:36:57.640018Z",
     "start_time": "2021-03-21T16:36:57.390631Z"
    }
   },
   "outputs": [
    {
     "data": {
      "text/plain": [
       "Text(0.5, 1.0, 'Effect of Work Type on Stroke')"
      ]
     },
     "execution_count": 34,
     "metadata": {},
     "output_type": "execute_result"
    },
    {
     "data": {
      "image/png": "[encoded data removed]",
      "text/plain": [
       "<Figure size 432x288 with 1 Axes>"
      ]
     },
     "metadata": {
      "needs_background": "light"
     },
     "output_type": "display_data"
    }
   ],
   "source": [
    "plots = sns.countplot(x='work_type', hue='stroke', data=stroke)\n",
    "\n",
    "for bar in plots.patches:\n",
    "    plots.annotate(f'{round(bar.get_height()/len(stroke)*100,2)} %', xy=(bar.get_x() + bar.get_width() / 2,  \n",
    "                   bar.get_height()), ha='center', va='center', size=13, xytext=(0, 8), textcoords='offset points')\n",
    "\n",
    "plt.title('Effect of Work Type on Stroke')"
   ]
  },
  {
   "cell_type": "markdown",
   "id": "demonstrated-sacramento",
   "metadata": {},
   "source": [
    "### Smoking vs Stroke"
   ]
  },
  {
   "cell_type": "code",
   "execution_count": 35,
   "id": "modified-surveillance",
   "metadata": {
    "ExecuteTime": {
     "end_time": "2021-03-21T16:36:57.811498Z",
     "start_time": "2021-03-21T16:36:57.642020Z"
    }
   },
   "outputs": [
    {
     "data": {
      "text/plain": [
       "Text(0.5, 1.0, 'Number of Smokers/Non Smokers')"
      ]
     },
     "execution_count": 35,
     "metadata": {},
     "output_type": "execute_result"
    },
    {
     "data": {
      "image/png": "[encoded data removed]",
      "text/plain": [
       "<Figure size 432x288 with 1 Axes>"
      ]
     },
     "metadata": {
      "needs_background": "light"
     },
     "output_type": "display_data"
    }
   ],
   "source": [
    "plots = sns.countplot(x='smoking_status', data=stroke)\n",
    "\n",
    "for bar in plots.patches:\n",
    "    plots.annotate(f'{round(bar.get_height()/len(stroke)*100,2)} %', xy=(bar.get_x() + bar.get_width() / 2,  \n",
    "                   bar.get_height()), ha='center', va='center', size=13, xytext=(0, 8), textcoords='offset points')\n",
    "\n",
    "plt.title('Number of Smokers/Non Smokers')"
   ]
  },
  {
   "cell_type": "code",
   "execution_count": 36,
   "id": "auburn-reminder",
   "metadata": {
    "ExecuteTime": {
     "end_time": "2021-03-21T16:36:58.110009Z",
     "start_time": "2021-03-21T16:36:57.813497Z"
    }
   },
   "outputs": [
    {
     "data": {
      "text/plain": [
       "Text(0.5, 1.0, 'Effect of Smoking on Stroke')"
      ]
     },
     "execution_count": 36,
     "metadata": {},
     "output_type": "execute_result"
    },
    {
     "data": {
      "image/png": "[encoded data removed]",
      "text/plain": [
       "<Figure size 432x288 with 1 Axes>"
      ]
     },
     "metadata": {
      "needs_background": "light"
     },
     "output_type": "display_data"
    }
   ],
   "source": [
    "plots = sns.countplot(x='smoking_status', hue='stroke', data=stroke)\n",
    "\n",
    "for bar in plots.patches:\n",
    "    plots.annotate(f'{round(bar.get_height()/len(stroke)*100,2)} %', xy=(bar.get_x() + bar.get_width() / 2,  \n",
    "                   bar.get_height()), ha='center', va='center', size=13, xytext=(0, 8), textcoords='offset points')\n",
    "\n",
    "plt.title('Effect of Smoking on Stroke')"
   ]
  },
  {
   "cell_type": "code",
   "execution_count": 37,
   "id": "coated-frost",
   "metadata": {
    "ExecuteTime": {
     "end_time": "2021-03-21T16:36:58.130083Z",
     "start_time": "2021-03-21T16:36:58.112394Z"
    }
   },
   "outputs": [],
   "source": [
    "correlation = stroke.corr()"
   ]
  },
  {
   "cell_type": "markdown",
   "id": "diagnostic-japan",
   "metadata": {},
   "source": [
    "## Correlation Heatmap"
   ]
  },
  {
   "cell_type": "code",
   "execution_count": 38,
   "id": "cutting-specialist",
   "metadata": {
    "ExecuteTime": {
     "end_time": "2021-03-21T16:36:58.710044Z",
     "start_time": "2021-03-21T16:36:58.130602Z"
    }
   },
   "outputs": [
    {
     "data": {
      "text/plain": [
       "<AxesSubplot:>"
      ]
     },
     "execution_count": 38,
     "metadata": {},
     "output_type": "execute_result"
    },
    {
     "data": {
      "image/png": "[encoded data removed]",
      "text/plain": [
       "<Figure size 720x720 with 2 Axes>"
      ]
     },
     "metadata": {
      "needs_background": "light"
     },
     "output_type": "display_data"
    }
   ],
   "source": [
    "plt.figure(figsize=(10,10))\n",
    "sns.heatmap(correlation, annot=True)"
   ]
  },
  {
   "cell_type": "markdown",
   "id": "overall-ready",
   "metadata": {},
   "source": [
    "# Removing Outliers and Redundant Columns"
   ]
  },
  {
   "cell_type": "code",
   "execution_count": 39,
   "id": "intense-bunch",
   "metadata": {
    "ExecuteTime": {
     "end_time": "2021-03-21T16:36:58.726651Z",
     "start_time": "2021-03-21T16:36:58.710564Z"
    }
   },
   "outputs": [],
   "source": [
    "stroke.drop(labels='id', axis=1, inplace=True)"
   ]
  },
  {
   "cell_type": "code",
   "execution_count": 40,
   "id": "recognized-modeling",
   "metadata": {
    "ExecuteTime": {
     "end_time": "2021-03-21T16:36:58.744826Z",
     "start_time": "2021-03-21T16:36:58.726651Z"
    },
    "scrolled": false
   },
   "outputs": [
    {
     "data": {
      "text/html": [
       "<div>\n",
       "<style scoped>\n",
       "    .dataframe tbody tr th:only-of-type {\n",
       "        vertical-align: middle;\n",
       "    }\n",
       "\n",
       "    .dataframe tbody tr th {\n",
       "        vertical-align: top;\n",
       "    }\n",
       "\n",
       "    .dataframe thead th {\n",
       "        text-align: right;\n",
       "    }\n",
       "</style>\n",
       "<table border=\"1\" class=\"dataframe\">\n",
       "  <thead>\n",
       "    <tr style=\"text-align: right;\">\n",
       "      <th></th>\n",
       "      <th>gender</th>\n",
       "      <th>age</th>\n",
       "      <th>hypertension</th>\n",
       "      <th>heart_disease</th>\n",
       "      <th>ever_married</th>\n",
       "      <th>work_type</th>\n",
       "      <th>Residence_type</th>\n",
       "      <th>avg_glucose_level</th>\n",
       "      <th>bmi</th>\n",
       "      <th>smoking_status</th>\n",
       "      <th>stroke</th>\n",
       "    </tr>\n",
       "  </thead>\n",
       "  <tbody>\n",
       "    <tr>\n",
       "      <th>0</th>\n",
       "      <td>Male</td>\n",
       "      <td>67.0</td>\n",
       "      <td>0</td>\n",
       "      <td>1</td>\n",
       "      <td>Yes</td>\n",
       "      <td>Private</td>\n",
       "      <td>Urban</td>\n",
       "      <td>228.69</td>\n",
       "      <td>36.600000</td>\n",
       "      <td>formerly smoked</td>\n",
       "      <td>1</td>\n",
       "    </tr>\n",
       "    <tr>\n",
       "      <th>1</th>\n",
       "      <td>Female</td>\n",
       "      <td>61.0</td>\n",
       "      <td>0</td>\n",
       "      <td>0</td>\n",
       "      <td>Yes</td>\n",
       "      <td>Self-employed</td>\n",
       "      <td>Rural</td>\n",
       "      <td>202.21</td>\n",
       "      <td>28.893237</td>\n",
       "      <td>never smoked</td>\n",
       "      <td>1</td>\n",
       "    </tr>\n",
       "    <tr>\n",
       "      <th>2</th>\n",
       "      <td>Male</td>\n",
       "      <td>80.0</td>\n",
       "      <td>0</td>\n",
       "      <td>1</td>\n",
       "      <td>Yes</td>\n",
       "      <td>Private</td>\n",
       "      <td>Rural</td>\n",
       "      <td>105.92</td>\n",
       "      <td>32.500000</td>\n",
       "      <td>never smoked</td>\n",
       "      <td>1</td>\n",
       "    </tr>\n",
       "    <tr>\n",
       "      <th>3</th>\n",
       "      <td>Female</td>\n",
       "      <td>49.0</td>\n",
       "      <td>0</td>\n",
       "      <td>0</td>\n",
       "      <td>Yes</td>\n",
       "      <td>Private</td>\n",
       "      <td>Urban</td>\n",
       "      <td>171.23</td>\n",
       "      <td>34.400000</td>\n",
       "      <td>smokes</td>\n",
       "      <td>1</td>\n",
       "    </tr>\n",
       "    <tr>\n",
       "      <th>4</th>\n",
       "      <td>Female</td>\n",
       "      <td>79.0</td>\n",
       "      <td>1</td>\n",
       "      <td>0</td>\n",
       "      <td>Yes</td>\n",
       "      <td>Self-employed</td>\n",
       "      <td>Rural</td>\n",
       "      <td>174.12</td>\n",
       "      <td>24.000000</td>\n",
       "      <td>never smoked</td>\n",
       "      <td>1</td>\n",
       "    </tr>\n",
       "  </tbody>\n",
       "</table>\n",
       "</div>"
      ],
      "text/plain": [
       "   gender   age  hypertension  heart_disease ever_married      work_type  \\\n",
       "0    Male  67.0             0              1          Yes        Private   \n",
       "1  Female  61.0             0              0          Yes  Self-employed   \n",
       "2    Male  80.0             0              1          Yes        Private   \n",
       "3  Female  49.0             0              0          Yes        Private   \n",
       "4  Female  79.0             1              0          Yes  Self-employed   \n",
       "\n",
       "  Residence_type  avg_glucose_level        bmi   smoking_status  stroke  \n",
       "0          Urban             228.69  36.600000  formerly smoked       1  \n",
       "1          Rural             202.21  28.893237     never smoked       1  \n",
       "2          Rural             105.92  32.500000     never smoked       1  \n",
       "3          Urban             171.23  34.400000           smokes       1  \n",
       "4          Rural             174.12  24.000000     never smoked       1  "
      ]
     },
     "execution_count": 40,
     "metadata": {},
     "output_type": "execute_result"
    }
   ],
   "source": [
    "stroke.head()"
   ]
  },
  {
   "cell_type": "code",
   "execution_count": 41,
   "id": "further-hydrogen",
   "metadata": {
    "ExecuteTime": {
     "end_time": "2021-03-21T16:36:58.760117Z",
     "start_time": "2021-03-21T16:36:58.746841Z"
    }
   },
   "outputs": [
    {
     "data": {
      "text/plain": [
       "(5105, 11)"
      ]
     },
     "execution_count": 41,
     "metadata": {},
     "output_type": "execute_result"
    }
   ],
   "source": [
    "stroke.drop(stroke[stroke.bmi>65].index, inplace=True)\n",
    "stroke.shape"
   ]
  },
  {
   "cell_type": "code",
   "execution_count": 42,
   "id": "animated-carolina",
   "metadata": {
    "ExecuteTime": {
     "end_time": "2021-03-21T16:36:58.775278Z",
     "start_time": "2021-03-21T16:36:58.761659Z"
    }
   },
   "outputs": [
    {
     "data": {
      "text/html": [
       "<div>\n",
       "<style scoped>\n",
       "    .dataframe tbody tr th:only-of-type {\n",
       "        vertical-align: middle;\n",
       "    }\n",
       "\n",
       "    .dataframe tbody tr th {\n",
       "        vertical-align: top;\n",
       "    }\n",
       "\n",
       "    .dataframe thead th {\n",
       "        text-align: right;\n",
       "    }\n",
       "</style>\n",
       "<table border=\"1\" class=\"dataframe\">\n",
       "  <thead>\n",
       "    <tr style=\"text-align: right;\">\n",
       "      <th></th>\n",
       "      <th>gender</th>\n",
       "      <th>age</th>\n",
       "      <th>hypertension</th>\n",
       "      <th>heart_disease</th>\n",
       "      <th>ever_married</th>\n",
       "      <th>work_type</th>\n",
       "      <th>Residence_type</th>\n",
       "      <th>avg_glucose_level</th>\n",
       "      <th>bmi</th>\n",
       "      <th>smoking_status</th>\n",
       "      <th>stroke</th>\n",
       "    </tr>\n",
       "  </thead>\n",
       "  <tbody>\n",
       "    <tr>\n",
       "      <th>0</th>\n",
       "      <td>Male</td>\n",
       "      <td>67.0</td>\n",
       "      <td>0</td>\n",
       "      <td>1</td>\n",
       "      <td>Yes</td>\n",
       "      <td>Private</td>\n",
       "      <td>Urban</td>\n",
       "      <td>228.69</td>\n",
       "      <td>36.600000</td>\n",
       "      <td>formerly smoked</td>\n",
       "      <td>1</td>\n",
       "    </tr>\n",
       "    <tr>\n",
       "      <th>1</th>\n",
       "      <td>Female</td>\n",
       "      <td>61.0</td>\n",
       "      <td>0</td>\n",
       "      <td>0</td>\n",
       "      <td>Yes</td>\n",
       "      <td>Self-employed</td>\n",
       "      <td>Rural</td>\n",
       "      <td>202.21</td>\n",
       "      <td>28.893237</td>\n",
       "      <td>never smoked</td>\n",
       "      <td>1</td>\n",
       "    </tr>\n",
       "    <tr>\n",
       "      <th>2</th>\n",
       "      <td>Male</td>\n",
       "      <td>80.0</td>\n",
       "      <td>0</td>\n",
       "      <td>1</td>\n",
       "      <td>Yes</td>\n",
       "      <td>Private</td>\n",
       "      <td>Rural</td>\n",
       "      <td>105.92</td>\n",
       "      <td>32.500000</td>\n",
       "      <td>never smoked</td>\n",
       "      <td>1</td>\n",
       "    </tr>\n",
       "    <tr>\n",
       "      <th>3</th>\n",
       "      <td>Female</td>\n",
       "      <td>49.0</td>\n",
       "      <td>0</td>\n",
       "      <td>0</td>\n",
       "      <td>Yes</td>\n",
       "      <td>Private</td>\n",
       "      <td>Urban</td>\n",
       "      <td>171.23</td>\n",
       "      <td>34.400000</td>\n",
       "      <td>smokes</td>\n",
       "      <td>1</td>\n",
       "    </tr>\n",
       "    <tr>\n",
       "      <th>4</th>\n",
       "      <td>Female</td>\n",
       "      <td>79.0</td>\n",
       "      <td>1</td>\n",
       "      <td>0</td>\n",
       "      <td>Yes</td>\n",
       "      <td>Self-employed</td>\n",
       "      <td>Rural</td>\n",
       "      <td>174.12</td>\n",
       "      <td>24.000000</td>\n",
       "      <td>never smoked</td>\n",
       "      <td>1</td>\n",
       "    </tr>\n",
       "  </tbody>\n",
       "</table>\n",
       "</div>"
      ],
      "text/plain": [
       "   gender   age  hypertension  heart_disease ever_married      work_type  \\\n",
       "0    Male  67.0             0              1          Yes        Private   \n",
       "1  Female  61.0             0              0          Yes  Self-employed   \n",
       "2    Male  80.0             0              1          Yes        Private   \n",
       "3  Female  49.0             0              0          Yes        Private   \n",
       "4  Female  79.0             1              0          Yes  Self-employed   \n",
       "\n",
       "  Residence_type  avg_glucose_level        bmi   smoking_status  stroke  \n",
       "0          Urban             228.69  36.600000  formerly smoked       1  \n",
       "1          Rural             202.21  28.893237     never smoked       1  \n",
       "2          Rural             105.92  32.500000     never smoked       1  \n",
       "3          Urban             171.23  34.400000           smokes       1  \n",
       "4          Rural             174.12  24.000000     never smoked       1  "
      ]
     },
     "execution_count": 42,
     "metadata": {},
     "output_type": "execute_result"
    }
   ],
   "source": [
    "stroke.head()"
   ]
  },
  {
   "cell_type": "markdown",
   "id": "satisfied-saudi",
   "metadata": {},
   "source": [
    "# Machine Learning Models"
   ]
  },
  {
   "cell_type": "markdown",
   "id": "greek-remedy",
   "metadata": {},
   "source": [
    "## Splitting The Dataset"
   ]
  },
  {
   "cell_type": "markdown",
   "id": "dominant-boulder",
   "metadata": {},
   "source": [
    "Splitting the dataset into train and test in 80:20."
   ]
  },
  {
   "cell_type": "code",
   "execution_count": 43,
   "id": "exempt-benefit",
   "metadata": {
    "ExecuteTime": {
     "end_time": "2021-03-21T16:36:58.790605Z",
     "start_time": "2021-03-21T16:36:58.777320Z"
    }
   },
   "outputs": [],
   "source": [
    "x = stroke.iloc[:,:-1]\n",
    "y = stroke.iloc[:,-1]"
   ]
  },
  {
   "cell_type": "code",
   "execution_count": 44,
   "id": "perceived-three",
   "metadata": {
    "ExecuteTime": {
     "end_time": "2021-03-21T16:36:58.821778Z",
     "start_time": "2021-03-21T16:36:58.791726Z"
    }
   },
   "outputs": [],
   "source": [
    "x_train, x_test, y_train, y_test = train_test_split(x, y, test_size=0.2, stratify=y)\n",
    "x_train, x_cv, y_train, y_cv = train_test_split(x_train, y_train, test_size=0.2, stratify=y_train)"
   ]
  },
  {
   "cell_type": "code",
   "execution_count": 45,
   "id": "sharp-calcium",
   "metadata": {
    "ExecuteTime": {
     "end_time": "2021-03-21T16:36:58.840006Z",
     "start_time": "2021-03-21T16:36:58.821778Z"
    }
   },
   "outputs": [
    {
     "data": {
      "text/plain": [
       "(3267, 10)"
      ]
     },
     "execution_count": 45,
     "metadata": {},
     "output_type": "execute_result"
    }
   ],
   "source": [
    "x_train.shape"
   ]
  },
  {
   "cell_type": "code",
   "execution_count": 46,
   "id": "awful-product",
   "metadata": {
    "ExecuteTime": {
     "end_time": "2021-03-21T16:36:58.857036Z",
     "start_time": "2021-03-21T16:36:58.842145Z"
    }
   },
   "outputs": [
    {
     "data": {
      "text/plain": [
       "(1021, 10)"
      ]
     },
     "execution_count": 46,
     "metadata": {},
     "output_type": "execute_result"
    }
   ],
   "source": [
    "x_test.shape"
   ]
  },
  {
   "cell_type": "code",
   "execution_count": 47,
   "id": "imposed-blocking",
   "metadata": {
    "ExecuteTime": {
     "end_time": "2021-03-21T16:36:58.877158Z",
     "start_time": "2021-03-21T16:36:58.857036Z"
    }
   },
   "outputs": [
    {
     "data": {
      "text/plain": [
       "0    3108\n",
       "1     159\n",
       "Name: stroke, dtype: int64"
      ]
     },
     "execution_count": 47,
     "metadata": {},
     "output_type": "execute_result"
    }
   ],
   "source": [
    "y_train.value_counts()"
   ]
  },
  {
   "cell_type": "code",
   "execution_count": 48,
   "id": "physical-advertiser",
   "metadata": {
    "ExecuteTime": {
     "end_time": "2021-03-21T16:36:58.915031Z",
     "start_time": "2021-03-21T16:36:58.880558Z"
    }
   },
   "outputs": [],
   "source": [
    "rom = RandomOverSampler(random_state=42)\n",
    "x_train, y_train = rom.fit_resample(x_train, y_train)"
   ]
  },
  {
   "cell_type": "code",
   "execution_count": 49,
   "id": "biological-wellington",
   "metadata": {
    "ExecuteTime": {
     "end_time": "2021-03-21T16:36:58.930227Z",
     "start_time": "2021-03-21T16:36:58.915031Z"
    }
   },
   "outputs": [
    {
     "data": {
      "text/plain": [
       "(6216, 10)"
      ]
     },
     "execution_count": 49,
     "metadata": {},
     "output_type": "execute_result"
    }
   ],
   "source": [
    "x_train.shape"
   ]
  },
  {
   "cell_type": "code",
   "execution_count": 50,
   "id": "interracial-prediction",
   "metadata": {
    "ExecuteTime": {
     "end_time": "2021-03-21T16:36:58.949968Z",
     "start_time": "2021-03-21T16:36:58.931810Z"
    }
   },
   "outputs": [
    {
     "data": {
      "text/plain": [
       "0    3108\n",
       "1    3108\n",
       "Name: stroke, dtype: int64"
      ]
     },
     "execution_count": 50,
     "metadata": {},
     "output_type": "execute_result"
    }
   ],
   "source": [
    "y_train.value_counts()"
   ]
  },
  {
   "cell_type": "markdown",
   "id": "private-budget",
   "metadata": {},
   "source": [
    "## One-Hot Encoding of Categorical Data"
   ]
  },
  {
   "cell_type": "code",
   "execution_count": 51,
   "id": "pregnant-grade",
   "metadata": {
    "ExecuteTime": {
     "end_time": "2021-03-21T16:36:58.997442Z",
     "start_time": "2021-03-21T16:36:58.952107Z"
    }
   },
   "outputs": [
    {
     "name": "stdout",
     "output_type": "stream",
     "text": [
      "(6216, 10) (6216,)\n",
      "After Vectorization......\n",
      "(6216, 21) (6216,)\n",
      "(817, 21) (817,)\n",
      "(1021, 21) (1021,)\n"
     ]
    }
   ],
   "source": [
    "ohe = ColumnTransformer([('ohe', OneHotEncoder(handle_unknown='ignore'), ['gender', 'ever_married', 'work_type', 'Residence_type', 'smoking_status'])], remainder='passthrough')\n",
    "ohe.fit(x_train)\n",
    "print(x_train.shape, y_train.shape)\n",
    "\n",
    "x_train_ohe = ohe.transform(x_train)\n",
    "x_cv_ohe = ohe.transform(x_cv)\n",
    "x_test_ohe = ohe.transform(x_test)\n",
    "\n",
    "print('After Vectorization......')\n",
    "print(x_train_ohe.shape, y_train.shape)\n",
    "print(x_cv_ohe.shape, y_cv.shape)\n",
    "print(x_test_ohe.shape, y_test.shape)"
   ]
  },
  {
   "cell_type": "code",
   "execution_count": 52,
   "id": "nonprofit-guest",
   "metadata": {
    "ExecuteTime": {
     "end_time": "2021-03-21T16:36:59.012580Z",
     "start_time": "2021-03-21T16:36:58.999445Z"
    }
   },
   "outputs": [
    {
     "name": "stdout",
     "output_type": "stream",
     "text": [
      "After Vectorization......\n",
      "(6216, 16) (6216,)\n",
      "(817, 16) (817,)\n",
      "(1021, 16) (1021,)\n"
     ]
    }
   ],
   "source": [
    "x_train_ohe = x_train_ohe[:, :16]\n",
    "x_cv_ohe = x_cv_ohe[:, :16]\n",
    "x_test_ohe = x_test_ohe[:, :16]\n",
    "\n",
    "print('After Vectorization......')\n",
    "print(x_train_ohe.shape, y_train.shape)\n",
    "print(x_cv_ohe.shape, y_cv.shape)\n",
    "print(x_test_ohe.shape, y_test.shape)"
   ]
  },
  {
   "cell_type": "code",
   "execution_count": 53,
   "id": "acknowledged-credit",
   "metadata": {
    "ExecuteTime": {
     "end_time": "2021-03-21T16:36:59.027693Z",
     "start_time": "2021-03-21T16:36:59.013552Z"
    },
    "scrolled": false
   },
   "outputs": [
    {
     "data": {
      "text/plain": [
       "['ohe__x0_Female',\n",
       " 'ohe__x0_Male',\n",
       " 'ohe__x0_Other',\n",
       " 'ohe__x1_No',\n",
       " 'ohe__x1_Yes',\n",
       " 'ohe__x2_Govt_job',\n",
       " 'ohe__x2_Never_worked',\n",
       " 'ohe__x2_Private',\n",
       " 'ohe__x2_Self-employed',\n",
       " 'ohe__x2_children',\n",
       " 'ohe__x3_Rural',\n",
       " 'ohe__x3_Urban',\n",
       " 'ohe__x4_Unknown',\n",
       " 'ohe__x4_formerly smoked',\n",
       " 'ohe__x4_never smoked',\n",
       " 'ohe__x4_smokes',\n",
       " 'age',\n",
       " 'hypertension',\n",
       " 'heart_disease',\n",
       " 'avg_glucose_level',\n",
       " 'bmi']"
      ]
     },
     "execution_count": 53,
     "metadata": {},
     "output_type": "execute_result"
    }
   ],
   "source": [
    "features = ohe.get_feature_names()\n",
    "features"
   ]
  },
  {
   "cell_type": "code",
   "execution_count": 54,
   "id": "activated-intro",
   "metadata": {
    "ExecuteTime": {
     "end_time": "2021-03-21T16:36:59.043652Z",
     "start_time": "2021-03-21T16:36:59.028694Z"
    }
   },
   "outputs": [
    {
     "name": "stdout",
     "output_type": "stream",
     "text": [
      "After Vectorization......\n",
      "(6216, 1) (6216,)\n",
      "(817, 1) (817,)\n",
      "(1021, 1) (1021,)\n"
     ]
    }
   ],
   "source": [
    "x_train_hyp = np.array(x_train['hypertension']).reshape((-1,1))\n",
    "x_cv_hyp = np.array(x_cv['hypertension']).reshape((-1,1))\n",
    "x_test_hyp = np.array(x_test['hypertension']).reshape((-1,1))\n",
    "\n",
    "print('After Vectorization......')\n",
    "print(x_train_hyp.shape, y_train.shape)\n",
    "print(x_cv_hyp.shape, y_cv.shape)\n",
    "print(x_test_hyp.shape, y_test.shape)"
   ]
  },
  {
   "cell_type": "code",
   "execution_count": 55,
   "id": "requested-survey",
   "metadata": {
    "ExecuteTime": {
     "end_time": "2021-03-21T16:36:59.058781Z",
     "start_time": "2021-03-21T16:36:59.044649Z"
    }
   },
   "outputs": [
    {
     "name": "stdout",
     "output_type": "stream",
     "text": [
      "After Vectorization......\n",
      "(6216, 1) (6216,)\n",
      "(817, 1) (817,)\n",
      "(1021, 1) (1021,)\n"
     ]
    }
   ],
   "source": [
    "x_train_hd = np.array(x_train['heart_disease']).reshape((-1,1))\n",
    "x_cv_hd = np.array(x_cv['heart_disease']).reshape((-1,1))\n",
    "x_test_hd = np.array(x_test['heart_disease']).reshape((-1,1))\n",
    "\n",
    "print('After Vectorization......')\n",
    "print(x_train_hd.shape, y_train.shape)\n",
    "print(x_cv_hd.shape, y_cv.shape)\n",
    "print(x_test_hd.shape, y_test.shape)"
   ]
  },
  {
   "cell_type": "code",
   "execution_count": 56,
   "id": "fabulous-racing",
   "metadata": {
    "ExecuteTime": {
     "end_time": "2021-03-21T16:36:59.089770Z",
     "start_time": "2021-03-21T16:36:59.059781Z"
    }
   },
   "outputs": [
    {
     "name": "stdout",
     "output_type": "stream",
     "text": [
      "(6216, 10) (6216,)\n",
      "After Vectorization......\n",
      "(6216, 3) (6216,)\n",
      "(817, 3) (817,)\n",
      "(1021, 3) (1021,)\n"
     ]
    }
   ],
   "source": [
    "std = ColumnTransformer([('norm', MinMaxScaler(), ['age', 'avg_glucose_level', 'bmi'])], remainder='drop')\n",
    "std.fit(x_train)\n",
    "print(x_train.shape, y_train.shape)\n",
    "\n",
    "x_train_std = std.transform(x_train)\n",
    "x_cv_std = std.transform(x_cv)\n",
    "x_test_std = std.transform(x_test)\n",
    "\n",
    "print('After Vectorization......')\n",
    "print(x_train_std.shape, y_train.shape)\n",
    "print(x_cv_std.shape, y_cv.shape)\n",
    "print(x_test_std.shape, y_test.shape)"
   ]
  },
  {
   "cell_type": "markdown",
   "id": "primary-lecture",
   "metadata": {},
   "source": [
    "### Combining all encoded columns"
   ]
  },
  {
   "cell_type": "code",
   "execution_count": 57,
   "id": "signed-thickness",
   "metadata": {
    "ExecuteTime": {
     "end_time": "2021-03-21T16:36:59.105180Z",
     "start_time": "2021-03-21T16:36:59.091770Z"
    }
   },
   "outputs": [
    {
     "name": "stdout",
     "output_type": "stream",
     "text": [
      "Final Data Matrix Shape is........\n",
      "(6216, 21) (6216,)\n",
      "(817, 21) (817,)\n",
      "(1021, 21) (1021,)\n"
     ]
    }
   ],
   "source": [
    "x_tr = np.hstack((x_train_ohe.astype(np.float), x_train_hyp.astype(np.float), x_train_hd.astype(np.float), x_train_std.astype(np.float)))\n",
    "x_cv = np.hstack((x_cv_ohe.astype(np.float), x_cv_hyp.astype(np.float), x_cv_hd.astype(np.float), x_cv_std.astype(np.float)))\n",
    "x_te = np.hstack((x_test_ohe.astype(np.float), x_test_hyp.astype(np.float), x_test_hd.astype(np.float), x_test_std.astype(np.float)))\n",
    "\n",
    "print(\"Final Data Matrix Shape is........\")\n",
    "print(x_tr.shape,y_train.shape)\n",
    "print(x_cv.shape,y_cv.shape)\n",
    "print(x_te.shape,y_test.shape)"
   ]
  },
  {
   "cell_type": "code",
   "execution_count": 58,
   "id": "cardiac-establishment",
   "metadata": {
    "ExecuteTime": {
     "end_time": "2021-03-21T16:36:59.121263Z",
     "start_time": "2021-03-21T16:36:59.106180Z"
    }
   },
   "outputs": [],
   "source": [
    "def cnf_matrix(true_y, pred_y):\n",
    "\n",
    "    cf_matrix = confusion_matrix(y_test, predicted_y)\n",
    "    print('-'*40, 'Confusion Matrix', '-'*40)\n",
    "    group_counts = ['{0:0.0f}'.format(value) for value in cf_matrix.flatten()]\n",
    "    group_percentages = ['{0:.2%}'.format(value) for value in cf_matrix.flatten()/np.sum(cf_matrix)]\n",
    "    labels = [f'{v1}\\n{v2}\\n' for v1, v2 in zip(group_counts,group_percentages)]\n",
    "    labels = np.asarray(labels).reshape(2,2)\n",
    "    sns.heatmap(cf_matrix, annot=labels, fmt='', cmap=\"YlGnBu\")\n",
    "    plt.xlabel('Predicted Class')\n",
    "    plt.ylabel('Original Class')\n",
    "    plt.show()\n",
    "\n",
    "    # Precision Matrix\n",
    "    pc_matrix =(cf_matrix/cf_matrix.sum(axis=0))\n",
    "    print(\"-\"*40, \"Precision matrix (Columm Sum=1)\", \"-\"*40)\n",
    "    sns.heatmap(pc_matrix, annot=True, cmap=\"YlGnBu\", fmt=\".3f\", xticklabels=[0,1], yticklabels=[0,1])\n",
    "    plt.xlabel('Predicted Class')\n",
    "    plt.ylabel('Original Class')\n",
    "    plt.show()\n",
    "\n",
    "    # Recall Matrix\n",
    "    rl_matrix =(((cf_matrix.T)/(cf_matrix.sum(axis=1))).T)\n",
    "    print(\"-\"*40, \"Recall matrix (Row sum=1)\", \"-\"*40)\n",
    "    sns.heatmap(rl_matrix, annot=True, cmap=\"YlGnBu\", fmt=\".3f\", xticklabels=[0,1], yticklabels=[0,1])\n",
    "    plt.xlabel('Predicted Class')\n",
    "    plt.ylabel('Original Class')"
   ]
  },
  {
   "cell_type": "markdown",
   "id": "threaded-string",
   "metadata": {},
   "source": [
    "## Random Model and its Performance"
   ]
  },
  {
   "cell_type": "code",
   "execution_count": 59,
   "id": "structured-massage",
   "metadata": {
    "ExecuteTime": {
     "end_time": "2021-03-21T16:36:59.782081Z",
     "start_time": "2021-03-21T16:36:59.122249Z"
    }
   },
   "outputs": [
    {
     "name": "stdout",
     "output_type": "stream",
     "text": [
      "Log loss on Cross Validation Data using Random Model 0.9264253972091854\n",
      "Log loss on Test Data using Random Model 0.9332675901969544\n",
      "Accuracy on Cross Validation using Random Model 0.4614443084455324\n",
      "Accuracy on Test Data using Random Model 0.47992164544564153\n",
      "---------------------------------------- Confusion Matrix ----------------------------------------\n"
     ]
    },
    {
     "data": {
      "image/png": "[encoded data removed]",
      "text/plain": [
       "<Figure size 432x288 with 2 Axes>"
      ]
     },
     "metadata": {
      "needs_background": "light"
     },
     "output_type": "display_data"
    },
    {
     "name": "stdout",
     "output_type": "stream",
     "text": [
      "---------------------------------------- Precision matrix (Columm Sum=1) ----------------------------------------\n"
     ]
    },
    {
     "data": {
      "image/png": "[encoded data removed]",
      "text/plain": [
       "<Figure size 432x288 with 2 Axes>"
      ]
     },
     "metadata": {
      "needs_background": "light"
     },
     "output_type": "display_data"
    },
    {
     "name": "stdout",
     "output_type": "stream",
     "text": [
      "---------------------------------------- Recall matrix (Row sum=1) ----------------------------------------\n"
     ]
    },
    {
     "data": {
      "image/png": "[encoded data removed]",
      "text/plain": [
       "<Figure size 432x288 with 2 Axes>"
      ]
     },
     "metadata": {
      "needs_background": "light"
     },
     "output_type": "display_data"
    }
   ],
   "source": [
    "test_data_len = x_test.shape[0]\n",
    "cv_data_len = x_cv.shape[0]\n",
    "\n",
    "# we create a output array that has exactly same size as the CV data\n",
    "cv_predicted_y = np.zeros((cv_data_len,2))\n",
    "for i in range(cv_data_len):\n",
    "    rand_probs = np.random.rand(1,2)\n",
    "    cv_predicted_y[i] = ((rand_probs/sum(sum(rand_probs)))[0])\n",
    "    \n",
    "# Test-Set error.\n",
    "# We create a output array that has exactly same as the test data\n",
    "test_predicted_y = np.zeros((test_data_len,2))\n",
    "for i in range(test_data_len):\n",
    "    rand_probs = np.random.rand(1,2)\n",
    "    test_predicted_y[i] = ((rand_probs/sum(sum(rand_probs)))[0])\n",
    "\n",
    "predicted_y = np.argmax(test_predicted_y, axis=1)\n",
    "predicted_cv = np.argmax(cv_predicted_y, axis=1)\n",
    "\n",
    "\n",
    "ll_rm_cv = log_loss(y_cv,cv_predicted_y, eps=1e-15)\n",
    "ac_rm_cv = accuracy_score(y_cv, predicted_cv)\n",
    "ll_rm_te = log_loss(y_test,test_predicted_y, eps=1e-15)\n",
    "ac_rm_te = accuracy_score(y_test, predicted_y)\n",
    "\n",
    "print(\"Log loss on Cross Validation Data using Random Model\",ll_rm_cv)\n",
    "print(\"Log loss on Test Data using Random Model\",ll_rm_te)\n",
    "print('Accuracy on Cross Validation using Random Model', ac_rm_cv)\n",
    "print('Accuracy on Test Data using Random Model', ac_rm_te)\n",
    "\n",
    "cnf_matrix(y_test, predicted_y)"
   ]
  },
  {
   "cell_type": "markdown",
   "id": "digital-river",
   "metadata": {},
   "source": [
    "## Logistic Regression"
   ]
  },
  {
   "cell_type": "markdown",
   "id": "approved-vacation",
   "metadata": {},
   "source": [
    "### Hyperparameter Tuning"
   ]
  },
  {
   "cell_type": "code",
   "execution_count": 60,
   "id": "handmade-specialist",
   "metadata": {
    "ExecuteTime": {
     "end_time": "2021-03-21T16:37:01.733498Z",
     "start_time": "2021-03-21T16:36:59.783830Z"
    }
   },
   "outputs": [
    {
     "data": {
      "text/plain": [
       "RandomizedSearchCV(estimator=SGDClassifier(loss='log', n_jobs=-1,\n",
       "                                           random_state=42),\n",
       "                   param_distributions={'alpha': [1e-06, 1e-05, 0.0001, 0.001,\n",
       "                                                  0.01, 0.1, 1, 10, 100,\n",
       "                                                  1000]},\n",
       "                   random_state=42, return_train_score=True)"
      ]
     },
     "execution_count": 60,
     "metadata": {},
     "output_type": "execute_result"
    }
   ],
   "source": [
    "alpha = [10 ** x for x in range(-6, 4)]\n",
    "params = {'alpha':alpha}\n",
    "clf1 = SGDClassifier(loss='log', n_jobs=-1, random_state=42)\n",
    "r_search = RandomizedSearchCV(clf1, param_distributions=params, return_train_score=True, random_state=42)\n",
    "r_search.fit(x_tr, y_train)"
   ]
  },
  {
   "cell_type": "code",
   "execution_count": 61,
   "id": "comic-batman",
   "metadata": {
    "ExecuteTime": {
     "end_time": "2021-03-21T16:37:01.749133Z",
     "start_time": "2021-03-21T16:37:01.734500Z"
    }
   },
   "outputs": [
    {
     "name": "stdout",
     "output_type": "stream",
     "text": [
      "The best hyperparameter values is {'alpha': 0.001} at which the score is 0.7689837365775675\n"
     ]
    }
   ],
   "source": [
    "print(f'The best hyperparameter values is {r_search.best_params_} at which the score is {r_search.best_score_}')"
   ]
  },
  {
   "cell_type": "markdown",
   "id": "mathematical-snowboard",
   "metadata": {},
   "source": [
    "### Training the model"
   ]
  },
  {
   "cell_type": "code",
   "execution_count": 62,
   "id": "arabic-wonder",
   "metadata": {
    "ExecuteTime": {
     "end_time": "2021-03-21T16:37:01.811486Z",
     "start_time": "2021-03-21T16:37:01.752303Z"
    }
   },
   "outputs": [
    {
     "data": {
      "text/plain": [
       "CalibratedClassifierCV(base_estimator=SGDClassifier(alpha=0.001, loss='log',\n",
       "                                                    n_jobs=-1,\n",
       "                                                    random_state=42),\n",
       "                       cv='prefit')"
      ]
     },
     "execution_count": 62,
     "metadata": {},
     "output_type": "execute_result"
    }
   ],
   "source": [
    "clf1 = SGDClassifier(loss='log', n_jobs=-1, random_state=42, **r_search.best_params_)\n",
    "clf1.fit(x_tr, y_train)\n",
    "cal_clf1 = CalibratedClassifierCV(clf1, cv='prefit')\n",
    "cal_clf1.fit(x_tr, y_train)"
   ]
  },
  {
   "cell_type": "code",
   "execution_count": 63,
   "id": "champion-conversion",
   "metadata": {
    "ExecuteTime": {
     "end_time": "2021-03-21T16:37:01.827487Z",
     "start_time": "2021-03-21T16:37:01.812489Z"
    }
   },
   "outputs": [],
   "source": [
    "y_pred_cv = cal_clf1.predict(x_cv)\n",
    "y_prob_cv = cal_clf1.predict_proba(x_cv)\n",
    "y_pred = cal_clf1.predict(x_te)\n",
    "y_prob = cal_clf1.predict_proba(x_te)"
   ]
  },
  {
   "cell_type": "markdown",
   "id": "ruled-accreditation",
   "metadata": {},
   "source": [
    "### Performance of the model"
   ]
  },
  {
   "cell_type": "code",
   "execution_count": 64,
   "id": "prescription-active",
   "metadata": {
    "ExecuteTime": {
     "end_time": "2021-03-21T16:37:02.470185Z",
     "start_time": "2021-03-21T16:37:01.829489Z"
    }
   },
   "outputs": [
    {
     "name": "stdout",
     "output_type": "stream",
     "text": [
      "Log loss on Cross Validation Data using Logistic Regression 0.5125195612125583\n",
      "Log loss on Test Data using Logistic Regression 0.5231360585054503\n",
      "Accuracy on Cross Validation using Logistic Regression 0.7490820073439413\n",
      "Accuracy on Test Data using Logistic Regression 0.732615083251714\n",
      "---------------------------------------- Confusion Matrix ----------------------------------------\n"
     ]
    },
    {
     "data": {
      "image/png": "[encoded data removed]",
      "text/plain": [
       "<Figure size 432x288 with 2 Axes>"
      ]
     },
     "metadata": {
      "needs_background": "light"
     },
     "output_type": "display_data"
    },
    {
     "name": "stdout",
     "output_type": "stream",
     "text": [
      "---------------------------------------- Precision matrix (Columm Sum=1) ----------------------------------------\n"
     ]
    },
    {
     "data": {
      "image/png": "[encoded data removed]",
      "text/plain": [
       "<Figure size 432x288 with 2 Axes>"
      ]
     },
     "metadata": {
      "needs_background": "light"
     },
     "output_type": "display_data"
    },
    {
     "name": "stdout",
     "output_type": "stream",
     "text": [
      "---------------------------------------- Recall matrix (Row sum=1) ----------------------------------------\n"
     ]
    },
    {
     "data": {
      "image/png": "[encoded data removed]",
      "text/plain": [
       "<Figure size 432x288 with 2 Axes>"
      ]
     },
     "metadata": {
      "needs_background": "light"
     },
     "output_type": "display_data"
    }
   ],
   "source": [
    "ll_lg_cv = log_loss(y_cv, y_prob_cv, eps=1e-15)\n",
    "ac_lg_cv = accuracy_score(y_cv, y_pred_cv)\n",
    "ll_lg_te = log_loss(y_test, y_prob, eps=1e-15)\n",
    "ac_lg_te = accuracy_score(y_test, y_pred)\n",
    "\n",
    "\n",
    "print(\"Log loss on Cross Validation Data using Logistic Regression\",ll_lg_cv)\n",
    "print(\"Log loss on Test Data using Logistic Regression\",ll_lg_te)\n",
    "print('Accuracy on Cross Validation using Logistic Regression', ac_lg_cv)\n",
    "print('Accuracy on Test Data using Logistic Regression', ac_lg_te)\n",
    "\n",
    "cnf_matrix(y_test, y_pred)"
   ]
  },
  {
   "cell_type": "markdown",
   "id": "exclusive-permission",
   "metadata": {},
   "source": [
    "### Feature Importance"
   ]
  },
  {
   "cell_type": "code",
   "execution_count": 65,
   "id": "challenging-steps",
   "metadata": {
    "ExecuteTime": {
     "end_time": "2021-03-21T16:37:03.057050Z",
     "start_time": "2021-03-21T16:37:02.471203Z"
    }
   },
   "outputs": [
    {
     "name": "stdout",
     "output_type": "stream",
     "text": [
      "Feature: 0, Score: 0.08744457495307384\n",
      "Feature: 1, Score: 0.08111951641250333\n",
      "Feature: 2, Score: -0.018148049134373182\n",
      "Feature: 3, Score: -0.017645247504174698\n",
      "Feature: 4, Score: 0.16806128973537904\n",
      "Feature: 5, Score: -0.264252568149695\n",
      "Feature: 6, Score: -0.08060563419806256\n",
      "Feature: 7, Score: 0.2271032318359398\n",
      "Feature: 8, Score: -0.2002913243679036\n",
      "Feature: 9, Score: 0.4684623371109256\n",
      "Feature: 10, Score: 0.06417623241019317\n",
      "Feature: 11, Score: 0.08623980982100894\n",
      "Feature: 12, Score: -0.02709757925860014\n",
      "Feature: 13, Score: 0.17847072939278436\n",
      "Feature: 14, Score: -0.0979924720277727\n",
      "Feature: 15, Score: 0.0970353641247913\n",
      "Feature: 16, Score: 0.4312492605722929\n",
      "Feature: 17, Score: 0.5463021567882967\n",
      "Feature: 18, Score: 5.479479894677717\n",
      "Feature: 19, Score: 0.595938424235832\n",
      "Feature: 20, Score: -0.056844716975492406\n"
     ]
    },
    {
     "data": {
      "image/png": "[encoded data removed]",
      "text/plain": [
       "<Figure size 1440x504 with 1 Axes>"
      ]
     },
     "metadata": {
      "needs_background": "light"
     },
     "output_type": "display_data"
    }
   ],
   "source": [
    "importance = clf1.coef_\n",
    "# summarize feature importance\n",
    "for i,v in enumerate(importance[0]):\n",
    "    print(f'Feature: {i}, Score: {v}')\n",
    "\n",
    "plt.figure(figsize=(20,7))    \n",
    "sns.barplot(x=[x for x in range(importance.shape[1])], y=importance[0]).set_xticklabels(features, rotation=90)\n",
    "plt.show()"
   ]
  },
  {
   "cell_type": "markdown",
   "id": "surface-ladder",
   "metadata": {},
   "source": [
    "## Support Vector Machines"
   ]
  },
  {
   "cell_type": "markdown",
   "id": "working-river",
   "metadata": {},
   "source": [
    "### Hyperparameter Tuning"
   ]
  },
  {
   "cell_type": "code",
   "execution_count": 66,
   "id": "treated-tongue",
   "metadata": {
    "ExecuteTime": {
     "end_time": "2021-03-21T16:37:04.110207Z",
     "start_time": "2021-03-21T16:37:03.060049Z"
    }
   },
   "outputs": [
    {
     "data": {
      "text/plain": [
       "RandomizedSearchCV(estimator=SGDClassifier(n_jobs=-1, random_state=42),\n",
       "                   param_distributions={'alpha': [1e-06, 1e-05, 0.0001, 0.001,\n",
       "                                                  0.01, 0.1, 1, 10, 100,\n",
       "                                                  1000]},\n",
       "                   random_state=42, return_train_score=True)"
      ]
     },
     "execution_count": 66,
     "metadata": {},
     "output_type": "execute_result"
    }
   ],
   "source": [
    "alpha = [10 ** x for x in range(-6, 4)]\n",
    "params = {'alpha':alpha}\n",
    "clf2 = SGDClassifier(loss='hinge', n_jobs=-1, random_state=42)\n",
    "r_search = RandomizedSearchCV(clf2, param_distributions=params, return_train_score=True, random_state=42)\n",
    "r_search.fit(x_tr, y_train)"
   ]
  },
  {
   "cell_type": "code",
   "execution_count": 67,
   "id": "spectacular-configuration",
   "metadata": {
    "ExecuteTime": {
     "end_time": "2021-03-21T16:37:04.130423Z",
     "start_time": "2021-03-21T16:37:04.111183Z"
    }
   },
   "outputs": [
    {
     "name": "stdout",
     "output_type": "stream",
     "text": [
      "The best hyperparameter values is {'alpha': 0.0001} at which the score is 0.7747760448867355\n"
     ]
    }
   ],
   "source": [
    "print(f'The best hyperparameter values is {r_search.best_params_} at which the score is {r_search.best_score_}')"
   ]
  },
  {
   "cell_type": "markdown",
   "id": "affecting-roads",
   "metadata": {},
   "source": [
    "### Training the model"
   ]
  },
  {
   "cell_type": "code",
   "execution_count": 68,
   "id": "recognized-climate",
   "metadata": {
    "ExecuteTime": {
     "end_time": "2021-03-21T16:37:04.191231Z",
     "start_time": "2021-03-21T16:37:04.141712Z"
    }
   },
   "outputs": [
    {
     "data": {
      "text/plain": [
       "CalibratedClassifierCV(base_estimator=SGDClassifier(n_jobs=-1, random_state=42),\n",
       "                       cv='prefit')"
      ]
     },
     "execution_count": 68,
     "metadata": {},
     "output_type": "execute_result"
    }
   ],
   "source": [
    "clf2 = SGDClassifier(loss='hinge', n_jobs=-1, random_state=42, **r_search.best_params_)\n",
    "clf2.fit(x_tr, y_train)\n",
    "cal_clf2 = CalibratedClassifierCV(clf2, cv='prefit')\n",
    "cal_clf2.fit(x_tr, y_train)"
   ]
  },
  {
   "cell_type": "code",
   "execution_count": 69,
   "id": "fossil-astrology",
   "metadata": {
    "ExecuteTime": {
     "end_time": "2021-03-21T16:37:04.206774Z",
     "start_time": "2021-03-21T16:37:04.196383Z"
    }
   },
   "outputs": [],
   "source": [
    "y_pred_cv = cal_clf2.predict(x_cv)\n",
    "y_prob_cv = cal_clf2.predict_proba(x_cv)\n",
    "y_pred = cal_clf2.predict(x_te)\n",
    "y_prob = cal_clf2.predict_proba(x_te)"
   ]
  },
  {
   "cell_type": "markdown",
   "id": "psychological-controversy",
   "metadata": {},
   "source": [
    "### Performance of the model"
   ]
  },
  {
   "cell_type": "code",
   "execution_count": 70,
   "id": "broke-estate",
   "metadata": {
    "ExecuteTime": {
     "end_time": "2021-03-21T16:37:04.809885Z",
     "start_time": "2021-03-21T16:37:04.206774Z"
    }
   },
   "outputs": [
    {
     "name": "stdout",
     "output_type": "stream",
     "text": [
      "Log loss on Cross Validation Data using SVM 0.5183016042379512\n",
      "Log loss on Test Data using SVM 0.5358896940741728\n",
      "Accuracy on Cross Validation using SVM 0.7429620563035496\n",
      "Accuracy on Test Data using SVM 0.7365328109696376\n",
      "---------------------------------------- Confusion Matrix ----------------------------------------\n"
     ]
    },
    {
     "data": {
      "image/png": "[encoded data removed]",
      "text/plain": [
       "<Figure size 432x288 with 2 Axes>"
      ]
     },
     "metadata": {
      "needs_background": "light"
     },
     "output_type": "display_data"
    },
    {
     "name": "stdout",
     "output_type": "stream",
     "text": [
      "---------------------------------------- Precision matrix (Columm Sum=1) ----------------------------------------\n"
     ]
    },
    {
     "data": {
      "image/png": "[encoded data removed]",
      "text/plain": [
       "<Figure size 432x288 with 2 Axes>"
      ]
     },
     "metadata": {
      "needs_background": "light"
     },
     "output_type": "display_data"
    },
    {
     "name": "stdout",
     "output_type": "stream",
     "text": [
      "---------------------------------------- Recall matrix (Row sum=1) ----------------------------------------\n"
     ]
    },
    {
     "data": {
      "image/png": "[encoded data removed]",
      "text/plain": [
       "<Figure size 432x288 with 2 Axes>"
      ]
     },
     "metadata": {
      "needs_background": "light"
     },
     "output_type": "display_data"
    }
   ],
   "source": [
    "ll_svm_cv = log_loss(y_cv, y_prob_cv, eps=1e-15)\n",
    "ac_svm_cv = accuracy_score(y_cv, y_pred_cv)\n",
    "ll_svm_te = log_loss(y_test, y_prob, eps=1e-15)\n",
    "ac_svm_te = accuracy_score(y_test, y_pred)\n",
    "\n",
    "\n",
    "print(\"Log loss on Cross Validation Data using SVM\",ll_svm_cv)\n",
    "print(\"Log loss on Test Data using SVM\",ll_svm_te)\n",
    "print('Accuracy on Cross Validation using SVM', ac_svm_cv)\n",
    "print('Accuracy on Test Data using SVM', ac_svm_te)\n",
    "\n",
    "cnf_matrix(y_test, y_pred)"
   ]
  },
  {
   "cell_type": "markdown",
   "id": "controlled-passing",
   "metadata": {},
   "source": [
    "### Feature Importance"
   ]
  },
  {
   "cell_type": "code",
   "execution_count": 71,
   "id": "mineral-interim",
   "metadata": {
    "ExecuteTime": {
     "end_time": "2021-03-21T16:37:05.259843Z",
     "start_time": "2021-03-21T16:37:04.812060Z"
    }
   },
   "outputs": [
    {
     "name": "stdout",
     "output_type": "stream",
     "text": [
      "Feature: 0, Score: 0.891098813947435\n",
      "Feature: 1, Score: 0.9208021077456798\n",
      "Feature: 2, Score: 0.0\n",
      "Feature: 3, Score: 1.009911989140427\n",
      "Feature: 4, Score: 0.8019889325526858\n",
      "Feature: 5, Score: -0.0891098813947417\n",
      "Feature: 6, Score: 0.0\n",
      "Feature: 7, Score: 0.29703293798247765\n",
      "Feature: 8, Score: -0.14851646899123905\n",
      "Feature: 9, Score: 1.7524943340966257\n",
      "Feature: 10, Score: 0.683175757359692\n",
      "Feature: 11, Score: 1.128725164333421\n",
      "Feature: 12, Score: 0.47525270077196574\n",
      "Feature: 13, Score: 0.4158461131754637\n",
      "Feature: 14, Score: 0.23762635038598182\n",
      "Feature: 15, Score: 0.6831757573597056\n",
      "Feature: 16, Score: -1.3947300287990333e-14\n",
      "Feature: 17, Score: 0.6534724635614665\n",
      "Feature: 18, Score: 5.783585189417587\n",
      "Feature: 19, Score: 0.27726708668090105\n",
      "Feature: 20, Score: -0.033352637606561576\n"
     ]
    },
    {
     "data": {
      "image/png": "[encoded data removed]",
      "text/plain": [
       "<Figure size 1440x504 with 1 Axes>"
      ]
     },
     "metadata": {
      "needs_background": "light"
     },
     "output_type": "display_data"
    }
   ],
   "source": [
    "importance = clf2.coef_\n",
    "# summarize feature importance\n",
    "for i,v in enumerate(importance[0]):\n",
    "    print(f'Feature: {i}, Score: {v}')\n",
    "\n",
    "plt.figure(figsize=(20,7))    \n",
    "sns.barplot(x=[x for x in range(importance.shape[1])], y=importance[0]).set_xticklabels(features, rotation=90)\n",
    "plt.show()"
   ]
  },
  {
   "cell_type": "markdown",
   "id": "spare-rough",
   "metadata": {},
   "source": [
    "## Naive Bayes"
   ]
  },
  {
   "cell_type": "markdown",
   "id": "positive-alert",
   "metadata": {},
   "source": [
    "### Hyperparameter Tuning"
   ]
  },
  {
   "cell_type": "code",
   "execution_count": 72,
   "id": "centered-spectrum",
   "metadata": {
    "ExecuteTime": {
     "end_time": "2021-03-21T16:37:05.570058Z",
     "start_time": "2021-03-21T16:37:05.261925Z"
    }
   },
   "outputs": [
    {
     "data": {
      "text/plain": [
       "RandomizedSearchCV(estimator=MultinomialNB(),\n",
       "                   param_distributions={'alpha': [1e-07, 1e-06, 1e-05, 0.0001,\n",
       "                                                  0.001, 0.01, 0.1, 1, 10, 50,\n",
       "                                                  100]},\n",
       "                   random_state=42, return_train_score=True)"
      ]
     },
     "execution_count": 72,
     "metadata": {},
     "output_type": "execute_result"
    }
   ],
   "source": [
    "alpha = [0.0000001,0.000001,0.00001,0.0001,0.001,0.01,0.1,1,10,50,100]\n",
    "params = {'alpha':alpha}\n",
    "clf3 = MultinomialNB()\n",
    "r_search = RandomizedSearchCV(clf3, param_distributions=params, return_train_score=True, random_state=42)\n",
    "r_search.fit(x_tr, y_train)"
   ]
  },
  {
   "cell_type": "code",
   "execution_count": 73,
   "id": "rocky-sender",
   "metadata": {
    "ExecuteTime": {
     "end_time": "2021-03-21T16:37:05.589677Z",
     "start_time": "2021-03-21T16:37:05.570578Z"
    }
   },
   "outputs": [
    {
     "name": "stdout",
     "output_type": "stream",
     "text": [
      "The best hyperparameter values is {'alpha': 0.01} at which the score is 0.6703707967188602\n"
     ]
    }
   ],
   "source": [
    "print(f'The best hyperparameter values is {r_search.best_params_} at which the score is {r_search.best_score_}')"
   ]
  },
  {
   "cell_type": "markdown",
   "id": "unsigned-allocation",
   "metadata": {},
   "source": [
    "### Training the model"
   ]
  },
  {
   "cell_type": "code",
   "execution_count": 74,
   "id": "conservative-lottery",
   "metadata": {
    "ExecuteTime": {
     "end_time": "2021-03-21T16:37:05.609771Z",
     "start_time": "2021-03-21T16:37:05.591683Z"
    }
   },
   "outputs": [
    {
     "data": {
      "text/plain": [
       "CalibratedClassifierCV(base_estimator=MultinomialNB(alpha=0.01), cv='prefit')"
      ]
     },
     "execution_count": 74,
     "metadata": {},
     "output_type": "execute_result"
    }
   ],
   "source": [
    "clf3 = MultinomialNB(**r_search.best_params_)\n",
    "clf3.fit(x_tr, y_train)\n",
    "cal_clf3 = CalibratedClassifierCV(clf3, cv='prefit')\n",
    "cal_clf3.fit(x_tr, y_train)"
   ]
  },
  {
   "cell_type": "code",
   "execution_count": 75,
   "id": "alive-panama",
   "metadata": {
    "ExecuteTime": {
     "end_time": "2021-03-21T16:37:05.629783Z",
     "start_time": "2021-03-21T16:37:05.611754Z"
    }
   },
   "outputs": [],
   "source": [
    "y_pred_cv = cal_clf3.predict(x_cv)\n",
    "y_prob_cv = cal_clf3.predict_proba(x_cv)\n",
    "y_pred = cal_clf3.predict(x_te)\n",
    "y_prob = cal_clf3.predict_proba(x_te)"
   ]
  },
  {
   "cell_type": "markdown",
   "id": "velvet-reverse",
   "metadata": {},
   "source": [
    "### Performance of the model"
   ]
  },
  {
   "cell_type": "code",
   "execution_count": 76,
   "id": "union-hawaiian",
   "metadata": {
    "ExecuteTime": {
     "end_time": "2021-03-21T16:37:06.373372Z",
     "start_time": "2021-03-21T16:37:05.630801Z"
    }
   },
   "outputs": [
    {
     "name": "stdout",
     "output_type": "stream",
     "text": [
      "Log loss on Cross Validation Data using Naive Bayes 0.6304080630993817\n",
      "Log loss on Test Data using Naive Bayes 0.5969289826648755\n",
      "Accuracy on Cross Validation using Naive Bayes 0.5777233782129743\n",
      "Accuracy on Test Data using Naive Bayes 0.6160626836434868\n",
      "---------------------------------------- Confusion Matrix ----------------------------------------\n"
     ]
    },
    {
     "data": {
      "image/png": "[encoded data removed]",
      "text/plain": [
       "<Figure size 432x288 with 2 Axes>"
      ]
     },
     "metadata": {
      "needs_background": "light"
     },
     "output_type": "display_data"
    },
    {
     "name": "stdout",
     "output_type": "stream",
     "text": [
      "---------------------------------------- Precision matrix (Columm Sum=1) ----------------------------------------\n"
     ]
    },
    {
     "data": {
      "image/png": "[encoded data removed]",
      "text/plain": [
       "<Figure size 432x288 with 2 Axes>"
      ]
     },
     "metadata": {
      "needs_background": "light"
     },
     "output_type": "display_data"
    },
    {
     "name": "stdout",
     "output_type": "stream",
     "text": [
      "---------------------------------------- Recall matrix (Row sum=1) ----------------------------------------\n"
     ]
    },
    {
     "data": {
      "image/png": "[encoded data removed]",
      "text/plain": [
       "<Figure size 432x288 with 2 Axes>"
      ]
     },
     "metadata": {
      "needs_background": "light"
     },
     "output_type": "display_data"
    }
   ],
   "source": [
    "ll_nb_cv = log_loss(y_cv, y_prob_cv, eps=1e-15)\n",
    "ac_nb_cv = accuracy_score(y_cv, y_pred_cv)\n",
    "ll_nb_te = log_loss(y_test, y_prob, eps=1e-15)\n",
    "ac_nb_te = accuracy_score(y_test, y_pred)\n",
    "\n",
    "\n",
    "print(\"Log loss on Cross Validation Data using Naive Bayes\",ll_nb_cv)\n",
    "print(\"Log loss on Test Data using Naive Bayes\",ll_nb_te)\n",
    "print('Accuracy on Cross Validation using Naive Bayes', ac_nb_cv)\n",
    "print('Accuracy on Test Data using Naive Bayes', ac_nb_te)\n",
    "\n",
    "cnf_matrix(y_test, y_pred)"
   ]
  },
  {
   "cell_type": "markdown",
   "id": "tested-savannah",
   "metadata": {},
   "source": [
    "## Random Forest using Sklearn"
   ]
  },
  {
   "cell_type": "markdown",
   "id": "apart-album",
   "metadata": {},
   "source": [
    "### Hyperparameter Tuning"
   ]
  },
  {
   "cell_type": "code",
   "execution_count": 77,
   "id": "backed-machinery",
   "metadata": {
    "ExecuteTime": {
     "end_time": "2021-03-21T16:39:01.328159Z",
     "start_time": "2021-03-21T16:37:06.375375Z"
    }
   },
   "outputs": [
    {
     "data": {
      "text/plain": [
       "RandomizedSearchCV(estimator=RandomForestClassifier(n_jobs=-1, random_state=42),\n",
       "                   param_distributions={'bootstrap': [True, False],\n",
       "                                        'max_depth': [10, 20, 30, 40, 50, 60,\n",
       "                                                      70, 80, 90, 100, 110],\n",
       "                                        'max_features': ['auto', 'log2', None],\n",
       "                                        'min_samples_leaf': [1, 2, 3, 4, 5],\n",
       "                                        'min_samples_split': [2, 5, 10, 15],\n",
       "                                        'n_estimators': [200, 400, 600, 800,\n",
       "                                                         1000, 1200, 1400, 1600,\n",
       "                                                         1800, 2000]},\n",
       "                   random_state=42, return_train_score=True)"
      ]
     },
     "execution_count": 77,
     "metadata": {},
     "output_type": "execute_result"
    }
   ],
   "source": [
    "# Maximum number of levels in tree\n",
    "n_estimators = [int(x) for x in np.linspace(start = 200, stop = 2000, num = 10)]\n",
    "\n",
    "# Number of features to consider at every split\n",
    "max_features = ['auto', 'log2', None]\n",
    "\n",
    "# Maximum number of levels in tree\n",
    "max_depth = [int(x) for x in np.linspace(10, 110, num = 11)]\n",
    "\n",
    "# Minimum number of samples required to split a node\n",
    "min_samples_split = [2, 5, 10, 15]\n",
    "\n",
    "# Minimum number of samples required at each leaf node\n",
    "min_samples_leaf = [1, 2, 3, 4, 5]\n",
    "\n",
    "# Method of selecting samples for training each tree\n",
    "bootstrap = [True, False]\n",
    "\n",
    "# Create the random grid\n",
    "params = {'n_estimators': n_estimators, \n",
    "               'max_features': max_features,\n",
    "               'max_depth': max_depth,\n",
    "               'min_samples_split': min_samples_split,\n",
    "               'min_samples_leaf': min_samples_leaf,\n",
    "               'bootstrap': bootstrap}\n",
    "clf4 = rgb(n_jobs=-1, random_state=42)\n",
    "r_search = RandomizedSearchCV(clf4, param_distributions=params, return_train_score=True, random_state=42)\n",
    "r_search.fit(x_tr, y_train)"
   ]
  },
  {
   "cell_type": "code",
   "execution_count": 78,
   "id": "prepared-parent",
   "metadata": {
    "ExecuteTime": {
     "end_time": "2021-03-21T16:39:01.343384Z",
     "start_time": "2021-03-21T16:39:01.330823Z"
    }
   },
   "outputs": [
    {
     "name": "stdout",
     "output_type": "stream",
     "text": [
      "The best hyperparameter values are {'n_estimators': 1400, 'min_samples_split': 10, 'min_samples_leaf': 1, 'max_features': 'log2', 'max_depth': 80, 'bootstrap': True} at which the score is 0.9890604103235352\n"
     ]
    }
   ],
   "source": [
    "print(f'The best hyperparameter values are {r_search.best_params_} at which the score is {r_search.best_score_}')"
   ]
  },
  {
   "cell_type": "markdown",
   "id": "modular-adams",
   "metadata": {},
   "source": [
    "### Training the model"
   ]
  },
  {
   "cell_type": "code",
   "execution_count": 79,
   "id": "trained-value",
   "metadata": {
    "ExecuteTime": {
     "end_time": "2021-03-21T16:39:07.277951Z",
     "start_time": "2021-03-21T16:39:01.346388Z"
    }
   },
   "outputs": [
    {
     "data": {
      "text/plain": [
       "CalibratedClassifierCV(base_estimator=RandomForestClassifier(max_depth=80,\n",
       "                                                             max_features='log2',\n",
       "                                                             min_samples_split=10,\n",
       "                                                             n_estimators=1400,\n",
       "                                                             n_jobs=-1,\n",
       "                                                             random_state=42),\n",
       "                       cv='prefit')"
      ]
     },
     "execution_count": 79,
     "metadata": {},
     "output_type": "execute_result"
    }
   ],
   "source": [
    "clf4 = rgb(**r_search.best_params_, n_jobs=-1, random_state=42)\n",
    "clf4.fit(x_tr, y_train)\n",
    "cal_clf4 = CalibratedClassifierCV(clf4, cv='prefit')\n",
    "cal_clf4.fit(x_tr, y_train)"
   ]
  },
  {
   "cell_type": "code",
   "execution_count": 80,
   "id": "fourth-complaint",
   "metadata": {
    "ExecuteTime": {
     "end_time": "2021-03-21T16:39:08.909871Z",
     "start_time": "2021-03-21T16:39:07.284104Z"
    }
   },
   "outputs": [],
   "source": [
    "y_pred_cv = cal_clf4.predict(x_cv)\n",
    "y_prob_cv = cal_clf4.predict_proba(x_cv)\n",
    "y_pred = cal_clf4.predict(x_te)\n",
    "y_prob = cal_clf4.predict_proba(x_te)"
   ]
  },
  {
   "cell_type": "markdown",
   "id": "neither-bouquet",
   "metadata": {},
   "source": [
    "### Performance of the model"
   ]
  },
  {
   "cell_type": "code",
   "execution_count": 81,
   "id": "hundred-blast",
   "metadata": {
    "ExecuteTime": {
     "end_time": "2021-03-21T16:39:09.455799Z",
     "start_time": "2021-03-21T16:39:08.911919Z"
    }
   },
   "outputs": [
    {
     "name": "stdout",
     "output_type": "stream",
     "text": [
      "Log loss on Cross Validation Data using RF 0.3348050164010808\n",
      "Log loss on Test Data using RF 0.3399874011973987\n",
      "Accuracy on Cross Validation using RF 0.9424724602203183\n",
      "Accuracy on Test Data using RF 0.9451518119490695\n",
      "---------------------------------------- Confusion Matrix ----------------------------------------\n"
     ]
    },
    {
     "data": {
      "image/png": "[encoded data removed]",
      "text/plain": [
       "<Figure size 432x288 with 2 Axes>"
      ]
     },
     "metadata": {
      "needs_background": "light"
     },
     "output_type": "display_data"
    },
    {
     "name": "stdout",
     "output_type": "stream",
     "text": [
      "---------------------------------------- Precision matrix (Columm Sum=1) ----------------------------------------\n"
     ]
    },
    {
     "data": {
      "image/png": "[encoded data removed]",
      "text/plain": [
       "<Figure size 432x288 with 2 Axes>"
      ]
     },
     "metadata": {
      "needs_background": "light"
     },
     "output_type": "display_data"
    },
    {
     "name": "stdout",
     "output_type": "stream",
     "text": [
      "---------------------------------------- Recall matrix (Row sum=1) ----------------------------------------\n"
     ]
    },
    {
     "data": {
      "image/png": "[encoded data removed]",
      "text/plain": [
       "<Figure size 432x288 with 2 Axes>"
      ]
     },
     "metadata": {
      "needs_background": "light"
     },
     "output_type": "display_data"
    }
   ],
   "source": [
    "ll_rf_cv = log_loss(y_cv, y_prob_cv, eps=1e-15)\n",
    "ac_rf_cv = accuracy_score(y_cv, y_pred_cv)\n",
    "ll_rf_te = log_loss(y_test, y_prob, eps=1e-15)\n",
    "ac_rf_te = accuracy_score(y_test, y_pred)\n",
    "\n",
    "\n",
    "print(\"Log loss on Cross Validation Data using RF\",ll_rf_cv)\n",
    "print(\"Log loss on Test Data using RF\",ll_rf_te)\n",
    "print('Accuracy on Cross Validation using RF', ac_rf_cv)\n",
    "print('Accuracy on Test Data using RF', ac_rf_te)\n",
    "\n",
    "cnf_matrix(y_test, y_pred)"
   ]
  },
  {
   "cell_type": "markdown",
   "id": "indian-variable",
   "metadata": {},
   "source": [
    "### Feature Importance"
   ]
  },
  {
   "cell_type": "code",
   "execution_count": 82,
   "id": "comfortable-chester",
   "metadata": {
    "ExecuteTime": {
     "end_time": "2021-03-21T16:39:10.056882Z",
     "start_time": "2021-03-21T16:39:09.458801Z"
    }
   },
   "outputs": [
    {
     "name": "stdout",
     "output_type": "stream",
     "text": [
      "Feature: 0, Score: 0.012752798771207554\n",
      "Feature: 1, Score: 0.013139025600361688\n",
      "Feature: 2, Score: 2.616235320332209e-06\n",
      "Feature: 3, Score: 0.02710540083742123\n",
      "Feature: 4, Score: 0.02861370113588525\n",
      "Feature: 5, Score: 0.013342904377548311\n",
      "Feature: 6, Score: 4.943628701595869e-05\n",
      "Feature: 7, Score: 0.016524918232487324\n",
      "Feature: 8, Score: 0.014365108071047962\n",
      "Feature: 9, Score: 0.011638684005633206\n",
      "Feature: 10, Score: 0.013775553141228124\n",
      "Feature: 11, Score: 0.013688283436881077\n",
      "Feature: 12, Score: 0.016334701538669137\n",
      "Feature: 13, Score: 0.01696287407025397\n",
      "Feature: 14, Score: 0.019946127480100346\n",
      "Feature: 15, Score: 0.0134679555440539\n",
      "Feature: 16, Score: 0.029773739495578412\n",
      "Feature: 17, Score: 0.023667986517847763\n",
      "Feature: 18, Score: 0.35779219053178385\n",
      "Feature: 19, Score: 0.1870918810423693\n",
      "Feature: 20, Score: 0.1699641136473053\n"
     ]
    },
    {
     "data": {
      "image/png": "[encoded data removed]",
      "text/plain": [
       "<Figure size 1440x504 with 1 Axes>"
      ]
     },
     "metadata": {
      "needs_background": "light"
     },
     "output_type": "display_data"
    }
   ],
   "source": [
    "importance = clf4.feature_importances_\n",
    "# summarize feature importance\n",
    "for i,v in enumerate(importance):\n",
    "    print(f'Feature: {i}, Score: {v}')\n",
    "\n",
    "plt.figure(figsize=(20,7))    \n",
    "sns.barplot(x=[x for x in range(len(importance))], y=importance).set_xticklabels(features, rotation=90)\n",
    "plt.show()"
   ]
  },
  {
   "cell_type": "markdown",
   "id": "demanding-above",
   "metadata": {},
   "source": [
    "## Random Forest using Xgboost"
   ]
  },
  {
   "cell_type": "markdown",
   "id": "laughing-divorce",
   "metadata": {},
   "source": [
    "### Hyperparameter Tuning"
   ]
  },
  {
   "cell_type": "code",
   "execution_count": 83,
   "id": "turned-attitude",
   "metadata": {
    "ExecuteTime": {
     "end_time": "2021-03-21T16:41:23.705665Z",
     "start_time": "2021-03-21T16:39:10.060920Z"
    },
    "scrolled": true
   },
   "outputs": [
    {
     "name": "stdout",
     "output_type": "stream",
     "text": [
      "[22:09:12] WARNING: C:/Users/Administrator/workspace/xgboost-win64_release_1.3.0/src/learner.cc:1061: Starting in XGBoost 1.3.0, the default evaluation metric used with the objective 'binary:logistic' was changed from 'error' to 'logloss'. Explicitly set eval_metric if you'd like to restore the old behavior.\n",
      "[22:09:15] WARNING: C:/Users/Administrator/workspace/xgboost-win64_release_1.3.0/src/learner.cc:1061: Starting in XGBoost 1.3.0, the default evaluation metric used with the objective 'binary:logistic' was changed from 'error' to 'logloss'. Explicitly set eval_metric if you'd like to restore the old behavior.\n",
      "[22:09:18] WARNING: C:/Users/Administrator/workspace/xgboost-win64_release_1.3.0/src/learner.cc:1061: Starting in XGBoost 1.3.0, the default evaluation metric used with the objective 'binary:logistic' was changed from 'error' to 'logloss'. Explicitly set eval_metric if you'd like to restore the old behavior.\n",
      "[22:09:21] WARNING: C:/Users/Administrator/workspace/xgboost-win64_release_1.3.0/src/learner.cc:1061: Starting in XGBoost 1.3.0, the default evaluation metric used with the objective 'binary:logistic' was changed from 'error' to 'logloss'. Explicitly set eval_metric if you'd like to restore the old behavior.\n",
      "[22:09:24] WARNING: C:/Users/Administrator/workspace/xgboost-win64_release_1.3.0/src/learner.cc:1061: Starting in XGBoost 1.3.0, the default evaluation metric used with the objective 'binary:logistic' was changed from 'error' to 'logloss'. Explicitly set eval_metric if you'd like to restore the old behavior.\n",
      "[22:09:25] WARNING: C:/Users/Administrator/workspace/xgboost-win64_release_1.3.0/src/learner.cc:1061: Starting in XGBoost 1.3.0, the default evaluation metric used with the objective 'binary:logistic' was changed from 'error' to 'logloss'. Explicitly set eval_metric if you'd like to restore the old behavior.\n",
      "[22:09:26] WARNING: C:/Users/Administrator/workspace/xgboost-win64_release_1.3.0/src/learner.cc:1061: Starting in XGBoost 1.3.0, the default evaluation metric used with the objective 'binary:logistic' was changed from 'error' to 'logloss'. Explicitly set eval_metric if you'd like to restore the old behavior.\n",
      "[22:09:27] WARNING: C:/Users/Administrator/workspace/xgboost-win64_release_1.3.0/src/learner.cc:1061: Starting in XGBoost 1.3.0, the default evaluation metric used with the objective 'binary:logistic' was changed from 'error' to 'logloss'. Explicitly set eval_metric if you'd like to restore the old behavior.\n",
      "[22:09:28] WARNING: C:/Users/Administrator/workspace/xgboost-win64_release_1.3.0/src/learner.cc:1061: Starting in XGBoost 1.3.0, the default evaluation metric used with the objective 'binary:logistic' was changed from 'error' to 'logloss'. Explicitly set eval_metric if you'd like to restore the old behavior.\n",
      "[22:09:29] WARNING: C:/Users/Administrator/workspace/xgboost-win64_release_1.3.0/src/learner.cc:1061: Starting in XGBoost 1.3.0, the default evaluation metric used with the objective 'binary:logistic' was changed from 'error' to 'logloss'. Explicitly set eval_metric if you'd like to restore the old behavior.\n",
      "[22:09:30] WARNING: C:/Users/Administrator/workspace/xgboost-win64_release_1.3.0/src/learner.cc:1061: Starting in XGBoost 1.3.0, the default evaluation metric used with the objective 'binary:logistic' was changed from 'error' to 'logloss'. Explicitly set eval_metric if you'd like to restore the old behavior.\n",
      "[22:09:32] WARNING: C:/Users/Administrator/workspace/xgboost-win64_release_1.3.0/src/learner.cc:1061: Starting in XGBoost 1.3.0, the default evaluation metric used with the objective 'binary:logistic' was changed from 'error' to 'logloss'. Explicitly set eval_metric if you'd like to restore the old behavior.\n",
      "[22:09:34] WARNING: C:/Users/Administrator/workspace/xgboost-win64_release_1.3.0/src/learner.cc:1061: Starting in XGBoost 1.3.0, the default evaluation metric used with the objective 'binary:logistic' was changed from 'error' to 'logloss'. Explicitly set eval_metric if you'd like to restore the old behavior.\n",
      "[22:09:36] WARNING: C:/Users/Administrator/workspace/xgboost-win64_release_1.3.0/src/learner.cc:1061: Starting in XGBoost 1.3.0, the default evaluation metric used with the objective 'binary:logistic' was changed from 'error' to 'logloss'. Explicitly set eval_metric if you'd like to restore the old behavior.\n",
      "[22:09:38] WARNING: C:/Users/Administrator/workspace/xgboost-win64_release_1.3.0/src/learner.cc:1061: Starting in XGBoost 1.3.0, the default evaluation metric used with the objective 'binary:logistic' was changed from 'error' to 'logloss'. Explicitly set eval_metric if you'd like to restore the old behavior.\n",
      "[22:09:42] WARNING: C:/Users/Administrator/workspace/xgboost-win64_release_1.3.0/src/learner.cc:1061: Starting in XGBoost 1.3.0, the default evaluation metric used with the objective 'binary:logistic' was changed from 'error' to 'logloss'. Explicitly set eval_metric if you'd like to restore the old behavior.\n",
      "[22:09:47] WARNING: C:/Users/Administrator/workspace/xgboost-win64_release_1.3.0/src/learner.cc:1061: Starting in XGBoost 1.3.0, the default evaluation metric used with the objective 'binary:logistic' was changed from 'error' to 'logloss'. Explicitly set eval_metric if you'd like to restore the old behavior.\n",
      "[22:09:52] WARNING: C:/Users/Administrator/workspace/xgboost-win64_release_1.3.0/src/learner.cc:1061: Starting in XGBoost 1.3.0, the default evaluation metric used with the objective 'binary:logistic' was changed from 'error' to 'logloss'. Explicitly set eval_metric if you'd like to restore the old behavior.\n",
      "[22:09:57] WARNING: C:/Users/Administrator/workspace/xgboost-win64_release_1.3.0/src/learner.cc:1061: Starting in XGBoost 1.3.0, the default evaluation metric used with the objective 'binary:logistic' was changed from 'error' to 'logloss'. Explicitly set eval_metric if you'd like to restore the old behavior.\n",
      "[22:10:01] WARNING: C:/Users/Administrator/workspace/xgboost-win64_release_1.3.0/src/learner.cc:1061: Starting in XGBoost 1.3.0, the default evaluation metric used with the objective 'binary:logistic' was changed from 'error' to 'logloss'. Explicitly set eval_metric if you'd like to restore the old behavior.\n",
      "[22:10:06] WARNING: C:/Users/Administrator/workspace/xgboost-win64_release_1.3.0/src/learner.cc:1061: Starting in XGBoost 1.3.0, the default evaluation metric used with the objective 'binary:logistic' was changed from 'error' to 'logloss'. Explicitly set eval_metric if you'd like to restore the old behavior.\n",
      "[22:10:10] WARNING: C:/Users/Administrator/workspace/xgboost-win64_release_1.3.0/src/learner.cc:1061: Starting in XGBoost 1.3.0, the default evaluation metric used with the objective 'binary:logistic' was changed from 'error' to 'logloss'. Explicitly set eval_metric if you'd like to restore the old behavior.\n",
      "[22:10:14] WARNING: C:/Users/Administrator/workspace/xgboost-win64_release_1.3.0/src/learner.cc:1061: Starting in XGBoost 1.3.0, the default evaluation metric used with the objective 'binary:logistic' was changed from 'error' to 'logloss'. Explicitly set eval_metric if you'd like to restore the old behavior.\n",
      "[22:10:18] WARNING: C:/Users/Administrator/workspace/xgboost-win64_release_1.3.0/src/learner.cc:1061: Starting in XGBoost 1.3.0, the default evaluation metric used with the objective 'binary:logistic' was changed from 'error' to 'logloss'. Explicitly set eval_metric if you'd like to restore the old behavior.\n",
      "[22:10:22] WARNING: C:/Users/Administrator/workspace/xgboost-win64_release_1.3.0/src/learner.cc:1061: Starting in XGBoost 1.3.0, the default evaluation metric used with the objective 'binary:logistic' was changed from 'error' to 'logloss'. Explicitly set eval_metric if you'd like to restore the old behavior.\n",
      "[22:10:25] WARNING: C:/Users/Administrator/workspace/xgboost-win64_release_1.3.0/src/learner.cc:1061: Starting in XGBoost 1.3.0, the default evaluation metric used with the objective 'binary:logistic' was changed from 'error' to 'logloss'. Explicitly set eval_metric if you'd like to restore the old behavior.\n",
      "[22:10:28] WARNING: C:/Users/Administrator/workspace/xgboost-win64_release_1.3.0/src/learner.cc:1061: Starting in XGBoost 1.3.0, the default evaluation metric used with the objective 'binary:logistic' was changed from 'error' to 'logloss'. Explicitly set eval_metric if you'd like to restore the old behavior.\n"
     ]
    },
    {
     "name": "stdout",
     "output_type": "stream",
     "text": [
      "[22:10:31] WARNING: C:/Users/Administrator/workspace/xgboost-win64_release_1.3.0/src/learner.cc:1061: Starting in XGBoost 1.3.0, the default evaluation metric used with the objective 'binary:logistic' was changed from 'error' to 'logloss'. Explicitly set eval_metric if you'd like to restore the old behavior.\n",
      "[22:10:34] WARNING: C:/Users/Administrator/workspace/xgboost-win64_release_1.3.0/src/learner.cc:1061: Starting in XGBoost 1.3.0, the default evaluation metric used with the objective 'binary:logistic' was changed from 'error' to 'logloss'. Explicitly set eval_metric if you'd like to restore the old behavior.\n",
      "[22:10:37] WARNING: C:/Users/Administrator/workspace/xgboost-win64_release_1.3.0/src/learner.cc:1061: Starting in XGBoost 1.3.0, the default evaluation metric used with the objective 'binary:logistic' was changed from 'error' to 'logloss'. Explicitly set eval_metric if you'd like to restore the old behavior.\n",
      "[22:10:38] WARNING: C:/Users/Administrator/workspace/xgboost-win64_release_1.3.0/src/learner.cc:1061: Starting in XGBoost 1.3.0, the default evaluation metric used with the objective 'binary:logistic' was changed from 'error' to 'logloss'. Explicitly set eval_metric if you'd like to restore the old behavior.\n",
      "[22:10:39] WARNING: C:/Users/Administrator/workspace/xgboost-win64_release_1.3.0/src/learner.cc:1061: Starting in XGBoost 1.3.0, the default evaluation metric used with the objective 'binary:logistic' was changed from 'error' to 'logloss'. Explicitly set eval_metric if you'd like to restore the old behavior.\n",
      "[22:10:39] WARNING: C:/Users/Administrator/workspace/xgboost-win64_release_1.3.0/src/learner.cc:1061: Starting in XGBoost 1.3.0, the default evaluation metric used with the objective 'binary:logistic' was changed from 'error' to 'logloss'. Explicitly set eval_metric if you'd like to restore the old behavior.\n",
      "[22:10:40] WARNING: C:/Users/Administrator/workspace/xgboost-win64_release_1.3.0/src/learner.cc:1061: Starting in XGBoost 1.3.0, the default evaluation metric used with the objective 'binary:logistic' was changed from 'error' to 'logloss'. Explicitly set eval_metric if you'd like to restore the old behavior.\n",
      "[22:10:40] WARNING: C:/Users/Administrator/workspace/xgboost-win64_release_1.3.0/src/learner.cc:1061: Starting in XGBoost 1.3.0, the default evaluation metric used with the objective 'binary:logistic' was changed from 'error' to 'logloss'. Explicitly set eval_metric if you'd like to restore the old behavior.\n",
      "[22:10:42] WARNING: C:/Users/Administrator/workspace/xgboost-win64_release_1.3.0/src/learner.cc:1061: Starting in XGBoost 1.3.0, the default evaluation metric used with the objective 'binary:logistic' was changed from 'error' to 'logloss'. Explicitly set eval_metric if you'd like to restore the old behavior.\n",
      "[22:10:44] WARNING: C:/Users/Administrator/workspace/xgboost-win64_release_1.3.0/src/learner.cc:1061: Starting in XGBoost 1.3.0, the default evaluation metric used with the objective 'binary:logistic' was changed from 'error' to 'logloss'. Explicitly set eval_metric if you'd like to restore the old behavior.\n",
      "[22:10:46] WARNING: C:/Users/Administrator/workspace/xgboost-win64_release_1.3.0/src/learner.cc:1061: Starting in XGBoost 1.3.0, the default evaluation metric used with the objective 'binary:logistic' was changed from 'error' to 'logloss'. Explicitly set eval_metric if you'd like to restore the old behavior.\n",
      "[22:10:48] WARNING: C:/Users/Administrator/workspace/xgboost-win64_release_1.3.0/src/learner.cc:1061: Starting in XGBoost 1.3.0, the default evaluation metric used with the objective 'binary:logistic' was changed from 'error' to 'logloss'. Explicitly set eval_metric if you'd like to restore the old behavior.\n",
      "[22:10:50] WARNING: C:/Users/Administrator/workspace/xgboost-win64_release_1.3.0/src/learner.cc:1061: Starting in XGBoost 1.3.0, the default evaluation metric used with the objective 'binary:logistic' was changed from 'error' to 'logloss'. Explicitly set eval_metric if you'd like to restore the old behavior.\n",
      "[22:10:51] WARNING: C:/Users/Administrator/workspace/xgboost-win64_release_1.3.0/src/learner.cc:1061: Starting in XGBoost 1.3.0, the default evaluation metric used with the objective 'binary:logistic' was changed from 'error' to 'logloss'. Explicitly set eval_metric if you'd like to restore the old behavior.\n",
      "[22:10:54] WARNING: C:/Users/Administrator/workspace/xgboost-win64_release_1.3.0/src/learner.cc:1061: Starting in XGBoost 1.3.0, the default evaluation metric used with the objective 'binary:logistic' was changed from 'error' to 'logloss'. Explicitly set eval_metric if you'd like to restore the old behavior.\n",
      "[22:10:56] WARNING: C:/Users/Administrator/workspace/xgboost-win64_release_1.3.0/src/learner.cc:1061: Starting in XGBoost 1.3.0, the default evaluation metric used with the objective 'binary:logistic' was changed from 'error' to 'logloss'. Explicitly set eval_metric if you'd like to restore the old behavior.\n",
      "[22:10:58] WARNING: C:/Users/Administrator/workspace/xgboost-win64_release_1.3.0/src/learner.cc:1061: Starting in XGBoost 1.3.0, the default evaluation metric used with the objective 'binary:logistic' was changed from 'error' to 'logloss'. Explicitly set eval_metric if you'd like to restore the old behavior.\n",
      "[22:11:00] WARNING: C:/Users/Administrator/workspace/xgboost-win64_release_1.3.0/src/learner.cc:1061: Starting in XGBoost 1.3.0, the default evaluation metric used with the objective 'binary:logistic' was changed from 'error' to 'logloss'. Explicitly set eval_metric if you'd like to restore the old behavior.\n",
      "[22:11:04] WARNING: C:/Users/Administrator/workspace/xgboost-win64_release_1.3.0/src/learner.cc:1061: Starting in XGBoost 1.3.0, the default evaluation metric used with the objective 'binary:logistic' was changed from 'error' to 'logloss'. Explicitly set eval_metric if you'd like to restore the old behavior.\n",
      "[22:11:08] WARNING: C:/Users/Administrator/workspace/xgboost-win64_release_1.3.0/src/learner.cc:1061: Starting in XGBoost 1.3.0, the default evaluation metric used with the objective 'binary:logistic' was changed from 'error' to 'logloss'. Explicitly set eval_metric if you'd like to restore the old behavior.\n",
      "[22:11:13] WARNING: C:/Users/Administrator/workspace/xgboost-win64_release_1.3.0/src/learner.cc:1061: Starting in XGBoost 1.3.0, the default evaluation metric used with the objective 'binary:logistic' was changed from 'error' to 'logloss'. Explicitly set eval_metric if you'd like to restore the old behavior.\n",
      "[22:11:17] WARNING: C:/Users/Administrator/workspace/xgboost-win64_release_1.3.0/src/learner.cc:1061: Starting in XGBoost 1.3.0, the default evaluation metric used with the objective 'binary:logistic' was changed from 'error' to 'logloss'. Explicitly set eval_metric if you'd like to restore the old behavior.\n",
      "[22:11:21] WARNING: C:/Users/Administrator/workspace/xgboost-win64_release_1.3.0/src/learner.cc:1061: Starting in XGBoost 1.3.0, the default evaluation metric used with the objective 'binary:logistic' was changed from 'error' to 'logloss'. Explicitly set eval_metric if you'd like to restore the old behavior.\n",
      "[22:11:23] WARNING: C:/Users/Administrator/workspace/xgboost-win64_release_1.3.0/src/learner.cc:1061: Starting in XGBoost 1.3.0, the default evaluation metric used with the objective 'binary:logistic' was changed from 'error' to 'logloss'. Explicitly set eval_metric if you'd like to restore the old behavior.\n"
     ]
    },
    {
     "data": {
      "text/plain": [
       "RandomizedSearchCV(estimator=XGBRFClassifier(base_score=None, booster=None,\n",
       "                                             colsample_bylevel=None,\n",
       "                                             colsample_bytree=None, gamma=None,\n",
       "                                             gpu_id=None,\n",
       "                                             importance_type='gain',\n",
       "                                             interaction_constraints=None,\n",
       "                                             max_delta_step=None,\n",
       "                                             max_depth=None,\n",
       "                                             min_child_weight=None, missing=nan,\n",
       "                                             monotone_constraints=None,\n",
       "                                             n_estimators=100, n_jobs=-1,\n",
       "                                             num_parallel_tree=None,\n",
       "                                             objective='...\n",
       "                                                          0.03111111111111111,\n",
       "                                                          0.052222222222222225,\n",
       "                                                          0.07333333333333333,\n",
       "                                                          0.09444444444444444,\n",
       "                                                          0.11555555555555555,\n",
       "                                                          0.1366666666666667,\n",
       "                                                          0.1577777777777778,\n",
       "                                                          0.1788888888888889,\n",
       "                                                          0.2],\n",
       "                                        'max_depth': [3, 5, 7, 9],\n",
       "                                        'min_child_weight': [1, 3, 5, 7],\n",
       "                                        'n_estimators': [100, 311, 522, 733,\n",
       "                                                         944, 1155, 1366, 1577,\n",
       "                                                         1788, 2000],\n",
       "                                        'subsample': [0.5, 0.6, 0.7, 0.8, 0.9,\n",
       "                                                      1]},\n",
       "                   random_state=42, return_train_score=True)"
      ]
     },
     "execution_count": 83,
     "metadata": {},
     "output_type": "execute_result"
    }
   ],
   "source": [
    "n_estimators = [int(x) for x in np.linspace(start = 100, stop = 2000, num = 10)]\n",
    "\n",
    "learning_rate = [x for x in np.linspace(start=0.01, stop=0.2, num=10)]\n",
    "\n",
    "min_child_weight = [1, 3, 5, 7]\n",
    "\n",
    "max_depth = [3, 5, 7, 9]\n",
    "\n",
    "subsample = [0.5, 0.6, 0.7, 0.8, 0.9, 1]\n",
    "\n",
    "colsample_bytree = [0.5, 0.6, 0.7, 0.8, 0.9, 1]\n",
    "\n",
    "# Create the random grid\n",
    "params = {'n_estimators': n_estimators, \n",
    "          'learning_rate':learning_rate,\n",
    "          'min_child_weight': min_child_weight,\n",
    "          'max_depth': max_depth,\n",
    "          'subsample': subsample,\n",
    "          'colsample_bytree': colsample_bytree}\n",
    "clf5 = xgb(n_jobs=-1, random_state=42)\n",
    "r_search = RandomizedSearchCV(clf5, param_distributions=params, return_train_score=True, random_state=42)\n",
    "r_search.fit(x_tr, y_train)"
   ]
  },
  {
   "cell_type": "code",
   "execution_count": 84,
   "id": "frozen-fishing",
   "metadata": {
    "ExecuteTime": {
     "end_time": "2021-03-21T16:41:23.720621Z",
     "start_time": "2021-03-21T16:41:23.709668Z"
    }
   },
   "outputs": [
    {
     "name": "stdout",
     "output_type": "stream",
     "text": [
      "The best hyperparameter values are {'subsample': 0.9, 'n_estimators': 100, 'min_child_weight': 1, 'max_depth': 9, 'learning_rate': 0.03111111111111111, 'colsample_bytree': 0.6} at which the score is 0.9628371614158258\n"
     ]
    }
   ],
   "source": [
    "print(f'The best hyperparameter values are {r_search.best_params_} at which the score is {r_search.best_score_}')"
   ]
  },
  {
   "cell_type": "markdown",
   "id": "gothic-delhi",
   "metadata": {},
   "source": [
    "### Training the model"
   ]
  },
  {
   "cell_type": "code",
   "execution_count": 85,
   "id": "correct-evanescence",
   "metadata": {
    "ExecuteTime": {
     "end_time": "2021-03-21T16:41:24.360581Z",
     "start_time": "2021-03-21T16:41:23.723807Z"
    }
   },
   "outputs": [
    {
     "name": "stdout",
     "output_type": "stream",
     "text": [
      "[22:11:24] WARNING: C:/Users/Administrator/workspace/xgboost-win64_release_1.3.0/src/learner.cc:1061: Starting in XGBoost 1.3.0, the default evaluation metric used with the objective 'binary:logistic' was changed from 'error' to 'logloss'. Explicitly set eval_metric if you'd like to restore the old behavior.\n"
     ]
    },
    {
     "data": {
      "text/plain": [
       "CalibratedClassifierCV(base_estimator=XGBRFClassifier(base_score=0.5,\n",
       "                                                      booster='gbtree',\n",
       "                                                      colsample_bylevel=1,\n",
       "                                                      colsample_bytree=0.6,\n",
       "                                                      gamma=0, gpu_id=-1,\n",
       "                                                      importance_type='gain',\n",
       "                                                      interaction_constraints='',\n",
       "                                                      learning_rate=0.03111111111111111,\n",
       "                                                      max_delta_step=0,\n",
       "                                                      max_depth=9,\n",
       "                                                      min_child_weight=1,\n",
       "                                                      missing=nan,\n",
       "                                                      monotone_constraints='()',\n",
       "                                                      n_estimators=100,\n",
       "                                                      n_jobs=-1,\n",
       "                                                      num_parallel_tree=100,\n",
       "                                                      objective='binary:logistic',\n",
       "                                                      random_state=42,\n",
       "                                                      reg_alpha=0,\n",
       "                                                      scale_pos_weight=1,\n",
       "                                                      subsample=0.9,\n",
       "                                                      tree_method='exact',\n",
       "                                                      validate_parameters=1,\n",
       "                                                      verbosity=None),\n",
       "                       cv='prefit')"
      ]
     },
     "execution_count": 85,
     "metadata": {},
     "output_type": "execute_result"
    }
   ],
   "source": [
    "clf5 = xgb(**r_search.best_params_, n_jobs=-1, random_state=42)\n",
    "clf5.fit(x_tr, y_train)\n",
    "cal_clf5 = CalibratedClassifierCV(clf5, cv='prefit')\n",
    "cal_clf5.fit(x_tr, y_train)"
   ]
  },
  {
   "cell_type": "code",
   "execution_count": 86,
   "id": "earlier-oxide",
   "metadata": {
    "ExecuteTime": {
     "end_time": "2021-03-21T16:41:24.400918Z",
     "start_time": "2021-03-21T16:41:24.362404Z"
    }
   },
   "outputs": [],
   "source": [
    "y_pred_cv = cal_clf5.predict(x_cv)\n",
    "y_prob_cv = cal_clf5.predict_proba(x_cv)\n",
    "y_pred = cal_clf5.predict(x_te)\n",
    "y_prob = cal_clf5.predict_proba(x_te)"
   ]
  },
  {
   "cell_type": "markdown",
   "id": "grateful-fishing",
   "metadata": {},
   "source": [
    "### Performance of the model"
   ]
  },
  {
   "cell_type": "code",
   "execution_count": 87,
   "id": "historical-finder",
   "metadata": {
    "ExecuteTime": {
     "end_time": "2021-03-21T16:41:25.013266Z",
     "start_time": "2021-03-21T16:41:24.404017Z"
    },
    "scrolled": false
   },
   "outputs": [
    {
     "name": "stdout",
     "output_type": "stream",
     "text": [
      "Log loss on Cross Validation Data using RF 0.5456568501282764\n",
      "Log loss on Test Data using RF 0.6049738340084296\n",
      "Accuracy on Cross Validation using RF 0.9363525091799265\n",
      "Accuracy on Test Data using RF 0.930460333006856\n",
      "---------------------------------------- Confusion Matrix ----------------------------------------\n"
     ]
    },
    {
     "data": {
      "image/png": "[encoded data removed]",
      "text/plain": [
       "<Figure size 432x288 with 2 Axes>"
      ]
     },
     "metadata": {
      "needs_background": "light"
     },
     "output_type": "display_data"
    },
    {
     "name": "stdout",
     "output_type": "stream",
     "text": [
      "---------------------------------------- Precision matrix (Columm Sum=1) ----------------------------------------\n"
     ]
    },
    {
     "data": {
      "image/png": "[encoded data removed]",
      "text/plain": [
       "<Figure size 432x288 with 2 Axes>"
      ]
     },
     "metadata": {
      "needs_background": "light"
     },
     "output_type": "display_data"
    },
    {
     "name": "stdout",
     "output_type": "stream",
     "text": [
      "---------------------------------------- Recall matrix (Row sum=1) ----------------------------------------\n"
     ]
    },
    {
     "data": {
      "image/png": "[encoded data removed]",
      "text/plain": [
       "<Figure size 432x288 with 2 Axes>"
      ]
     },
     "metadata": {
      "needs_background": "light"
     },
     "output_type": "display_data"
    }
   ],
   "source": [
    "ll_xg_cv = log_loss(y_cv, y_prob_cv, eps=1e-15)\n",
    "ac_xg_cv = accuracy_score(y_cv, y_pred_cv)\n",
    "ll_xg_te = log_loss(y_test, y_prob, eps=1e-15)\n",
    "ac_xg_te = accuracy_score(y_test, y_pred)\n",
    "\n",
    "\n",
    "print(\"Log loss on Cross Validation Data using RF\",ll_xg_cv)\n",
    "print(\"Log loss on Test Data using RF\",ll_xg_te)\n",
    "print('Accuracy on Cross Validation using RF', ac_xg_cv)\n",
    "print('Accuracy on Test Data using RF', ac_xg_te)\n",
    "\n",
    "cnf_matrix(y_test, y_pred)"
   ]
  },
  {
   "cell_type": "markdown",
   "id": "surprising-alfred",
   "metadata": {},
   "source": [
    "### Feature Importance"
   ]
  },
  {
   "cell_type": "code",
   "execution_count": 88,
   "id": "stylish-report",
   "metadata": {
    "ExecuteTime": {
     "end_time": "2021-03-21T16:41:25.600895Z",
     "start_time": "2021-03-21T16:41:25.016266Z"
    }
   },
   "outputs": [
    {
     "name": "stdout",
     "output_type": "stream",
     "text": [
      "Feature: 0, Score: 0.014785390347242355\n",
      "Feature: 1, Score: 0.016840120777487755\n",
      "Feature: 2, Score: 0.0\n",
      "Feature: 3, Score: 0.26061001420021057\n",
      "Feature: 4, Score: 0.11831574887037277\n",
      "Feature: 5, Score: 0.0228144321590662\n",
      "Feature: 6, Score: 0.006446104031056166\n",
      "Feature: 7, Score: 0.022581875324249268\n",
      "Feature: 8, Score: 0.019605936482548714\n",
      "Feature: 9, Score: 0.08927551656961441\n",
      "Feature: 10, Score: 0.015692954882979393\n",
      "Feature: 11, Score: 0.012989203445613384\n",
      "Feature: 12, Score: 0.027522603049874306\n",
      "Feature: 13, Score: 0.03213122859597206\n",
      "Feature: 14, Score: 0.030077636241912842\n",
      "Feature: 15, Score: 0.02024657279253006\n",
      "Feature: 16, Score: 0.046271972358226776\n",
      "Feature: 17, Score: 0.051927436143159866\n",
      "Feature: 18, Score: 0.11803538352251053\n",
      "Feature: 19, Score: 0.03629869595170021\n",
      "Feature: 20, Score: 0.03753121197223663\n"
     ]
    },
    {
     "data": {
      "image/png": "[encoded data removed]",
      "text/plain": [
       "<Figure size 1440x504 with 1 Axes>"
      ]
     },
     "metadata": {
      "needs_background": "light"
     },
     "output_type": "display_data"
    }
   ],
   "source": [
    "importance = clf5.feature_importances_\n",
    "# summarize feature importance\n",
    "for i,v in enumerate(importance):\n",
    "    print(f'Feature: {i}, Score: {v}')\n",
    "\n",
    "plt.figure(figsize=(20,7))    \n",
    "sns.barplot(x=[x for x in range(len(importance))], y=importance).set_xticklabels(features, rotation=90)\n",
    "plt.show()"
   ]
  },
  {
   "cell_type": "markdown",
   "id": "sporting-virgin",
   "metadata": {},
   "source": [
    "## Stacking Classifier"
   ]
  },
  {
   "cell_type": "code",
   "execution_count": 89,
   "id": "automatic-vanilla",
   "metadata": {
    "ExecuteTime": {
     "end_time": "2021-03-21T16:41:58.481217Z",
     "start_time": "2021-03-21T16:41:25.604053Z"
    }
   },
   "outputs": [
    {
     "data": {
      "text/plain": [
       "CalibratedClassifierCV(base_estimator=StackingClassifier(estimators=[('svc',\n",
       "                                                                      SGDClassifier(n_jobs=-1,\n",
       "                                                                                    random_state=42)),\n",
       "                                                                     ('nb',\n",
       "                                                                      MultinomialNB(alpha=0.01)),\n",
       "                                                                     ('rf',\n",
       "                                                                      RandomForestClassifier(max_depth=80,\n",
       "                                                                                             max_features='log2',\n",
       "                                                                                             min_samples_split=10,\n",
       "                                                                                             n_estimators=1400,\n",
       "                                                                                             n_jobs=-1,\n",
       "                                                                                             random_state=42))],\n",
       "                                                         final_estimator=SGDClassifier(alpha=0.001,\n",
       "                                                                                       loss='log',\n",
       "                                                                                       n_jobs=-1,\n",
       "                                                                                       random_state=42),\n",
       "                                                         n_jobs=-1),\n",
       "                       cv='prefit')"
      ]
     },
     "execution_count": 89,
     "metadata": {},
     "output_type": "execute_result"
    }
   ],
   "source": [
    "estimators = [('svc', clf2), ('nb', clf3), ('rf',  clf4)]\n",
    "\n",
    "scl = StackingClassifier(estimators=estimators, final_estimator=clf1, n_jobs=-1)\n",
    "scl.fit(x_tr, y_train)\n",
    "cal_clf = CalibratedClassifierCV(scl, cv='prefit')\n",
    "cal_clf.fit(x_tr, y_train)"
   ]
  },
  {
   "cell_type": "code",
   "execution_count": 90,
   "id": "pharmaceutical-syria",
   "metadata": {
    "ExecuteTime": {
     "end_time": "2021-03-21T16:41:59.987217Z",
     "start_time": "2021-03-21T16:41:58.485221Z"
    }
   },
   "outputs": [],
   "source": [
    "y_pred_cv = cal_clf.predict(x_cv)\n",
    "y_prob_cv = cal_clf.predict_proba(x_cv)\n",
    "y_pred = cal_clf.predict(x_te)\n",
    "y_prob = cal_clf.predict_proba(x_te)"
   ]
  },
  {
   "cell_type": "markdown",
   "id": "conceptual-exposure",
   "metadata": {},
   "source": [
    "### Performance of the model"
   ]
  },
  {
   "cell_type": "code",
   "execution_count": 91,
   "id": "micro-automation",
   "metadata": {
    "ExecuteTime": {
     "end_time": "2021-03-21T16:42:00.520766Z",
     "start_time": "2021-03-21T16:41:59.990219Z"
    },
    "scrolled": false
   },
   "outputs": [
    {
     "name": "stdout",
     "output_type": "stream",
     "text": [
      "Log loss on Cross Validation Data using Stacking Classifier 0.3339721346074445\n",
      "Log loss on Test Data using Stacking Classifier 0.3394177727229881\n",
      "Accuracy on Cross Validation using Stacking Classifier 0.9424724602203183\n",
      "Accuracy on Test Data using Stacking Classifier 0.9451518119490695\n",
      "---------------------------------------- Confusion Matrix ----------------------------------------\n"
     ]
    },
    {
     "data": {
      "image/png": "[encoded data removed]",
      "text/plain": [
       "<Figure size 432x288 with 2 Axes>"
      ]
     },
     "metadata": {
      "needs_background": "light"
     },
     "output_type": "display_data"
    },
    {
     "name": "stdout",
     "output_type": "stream",
     "text": [
      "---------------------------------------- Precision matrix (Columm Sum=1) ----------------------------------------\n"
     ]
    },
    {
     "data": {
      "image/png": "[encoded data removed]",
      "text/plain": [
       "<Figure size 432x288 with 2 Axes>"
      ]
     },
     "metadata": {
      "needs_background": "light"
     },
     "output_type": "display_data"
    },
    {
     "name": "stdout",
     "output_type": "stream",
     "text": [
      "---------------------------------------- Recall matrix (Row sum=1) ----------------------------------------\n"
     ]
    },
    {
     "data": {
      "image/png": "[encoded data removed]",
      "text/plain": [
       "<Figure size 432x288 with 2 Axes>"
      ]
     },
     "metadata": {
      "needs_background": "light"
     },
     "output_type": "display_data"
    }
   ],
   "source": [
    "ll_sc_cv = log_loss(y_cv, y_prob_cv, eps=1e-15)\n",
    "ac_sc_cv = accuracy_score(y_cv, y_pred_cv)\n",
    "ll_sc_te = log_loss(y_test, y_prob, eps=1e-15)\n",
    "ac_sc_te = accuracy_score(y_test, y_pred)\n",
    "\n",
    "\n",
    "print(\"Log loss on Cross Validation Data using Stacking Classifier\",ll_sc_cv)\n",
    "print(\"Log loss on Test Data using Stacking Classifier\",ll_sc_te)\n",
    "print('Accuracy on Cross Validation using Stacking Classifier', ac_sc_cv)\n",
    "print('Accuracy on Test Data using Stacking Classifier', ac_sc_te)\n",
    "\n",
    "cnf_matrix(y_test, y_pred)"
   ]
  },
  {
   "cell_type": "markdown",
   "id": "mysterious-background",
   "metadata": {},
   "source": [
    "# Summary of Performance"
   ]
  },
  {
   "cell_type": "code",
   "execution_count": 92,
   "id": "imperial-samoa",
   "metadata": {
    "ExecuteTime": {
     "end_time": "2021-03-21T16:42:00.536832Z",
     "start_time": "2021-03-21T16:42:00.524833Z"
    }
   },
   "outputs": [],
   "source": [
    "table = PrettyTable()\n",
    "table.field_names = ['Model', 'CV Log Loss', 'Test Log Loss', 'CV Accuracy', 'Test Accuracy']\n",
    "table.add_rows([['Random Model', round(ll_rm_cv,3), round(ll_rm_te,4), round(ac_rm_cv,3), round(ac_rm_te,3)],\n",
    "                ['Logistic Regression', round(ll_lg_cv,3), round(ll_lg_te,3), round(ac_lg_cv,3), round(ac_lg_te,3)],\n",
    "                ['Naive Bayes', round(ll_nb_cv,3), round(ll_nb_te,3), round(ac_nb_cv,3), round(ac_nb_te,3)],\n",
    "                ['SVM', round(ll_svm_cv,3), round(ll_svm_te,3), round(ac_svm_cv,3), round(ac_svm_te,3)],\n",
    "                ['Random Forest(Scikit)', round(ll_rf_cv,3), round(ll_rf_te,3), round(ac_rf_cv,3), round(ac_rf_te,3)],\n",
    "                ['Random Forest(Xgboost)', round(ll_xg_cv,3), round(ll_xg_te,3), round(ac_xg_cv,3), round(ac_xg_te,3)],\n",
    "                ['Stacking Classifier', round(ll_sc_cv,3), round(ll_sc_te,3), round(ac_sc_cv,3), round(ac_sc_te,3)]])"
   ]
  },
  {
   "cell_type": "code",
   "execution_count": 93,
   "id": "invalid-moderator",
   "metadata": {
    "ExecuteTime": {
     "end_time": "2021-03-21T16:42:00.552605Z",
     "start_time": "2021-03-21T16:42:00.542831Z"
    }
   },
   "outputs": [
    {
     "name": "stdout",
     "output_type": "stream",
     "text": [
      "+------------------------+-------------+---------------+-------------+---------------+\n",
      "|         Model          | CV Log Loss | Test Log Loss | CV Accuracy | Test Accuracy |\n",
      "+------------------------+-------------+---------------+-------------+---------------+\n",
      "|      Random Model      |    0.926    |     0.9333    |    0.461    |      0.48     |\n",
      "|  Logistic Regression   |    0.513    |     0.523     |    0.749    |     0.733     |\n",
      "|      Naive Bayes       |     0.63    |     0.597     |    0.578    |     0.616     |\n",
      "|          SVM           |    0.518    |     0.536     |    0.743    |     0.737     |\n",
      "| Random Forest(Scikit)  |    0.335    |      0.34     |    0.942    |     0.945     |\n",
      "| Random Forest(Xgboost) |    0.546    |     0.605     |    0.936    |      0.93     |\n",
      "|  Stacking Classifier   |    0.334    |     0.339     |    0.942    |     0.945     |\n",
      "+------------------------+-------------+---------------+-------------+---------------+\n"
     ]
    }
   ],
   "source": [
    "table.set_style(DEFAULT)\n",
    "print(table)"
   ]
  },
  {
   "cell_type": "markdown",
   "id": "artificial-hometown",
   "metadata": {},
   "source": [
    "So our best model is Random Forest using sklearn with **an accuracy of 94.5% and log loss of 0.339**"
   ]
  }
 ],
 "metadata": {
  "kernelspec": {
   "display_name": "Python 3",
   "language": "python",
   "name": "python3"
  },
  "language_info": {
   "codemirror_mode": {
    "name": "ipython",
    "version": 3
   },
   "file_extension": ".py",
   "mimetype": "text/x-python",
   "name": "python",
   "nbconvert_exporter": "python",
   "pygments_lexer": "ipython3",
   "version": "3.7.10"
  },
  "latex_envs": {
   "LaTeX_envs_menu_present": true,
   "autoclose": false,
   "autocomplete": true,
   "bibliofile": "biblio.bib",
   "cite_by": "apalike",
   "current_citInitial": 1,
   "eqLabelWithNumbers": true,
   "eqNumInitial": 1,
   "hotkeys": {
    "equation": "Ctrl-E",
    "itemize": "Ctrl-I"
   },
   "labels_anchors": false,
   "latex_user_defs": false,
   "report_style_numbering": false,
   "user_envs_cfg": false
  },
  "toc": {
   "base_numbering": 1,
   "nav_menu": {},
   "number_sections": true,
   "sideBar": true,
   "skip_h1_title": false,
   "title_cell": "Table of Contents",
   "title_sidebar": "Contents",
   "toc_cell": false,
   "toc_position": {},
   "toc_section_display": true,
   "toc_window_display": true
  },
  "varInspector": {
   "cols": {
    "lenName": 16,
    "lenType": 16,
    "lenVar": 40
   },
   "kernels_config": {
    "python": {
     "delete_cmd_postfix": "",
     "delete_cmd_prefix": "del ",
     "library": "var_list.py",
     "varRefreshCmd": "print(var_dic_list())"
    },
    "r": {
     "delete_cmd_postfix": ") ",
     "delete_cmd_prefix": "rm(",
     "library": "var_list.r",
     "varRefreshCmd": "cat(var_dic_list()) "
    }
   },
   "oldHeight": 122.85,
   "position": {
    "height": "40px",
    "left": "1266px",
    "right": "20px",
    "top": "120px",
    "width": "250px"
   },
   "types_to_exclude": [
    "module",
    "function",
    "builtin_function_or_method",
    "instance",
    "_Feature"
   ],
   "varInspector_section_display": "none",
   "window_display": true
  }
 },
 "nbformat": 4,
 "nbformat_minor": 5
}
