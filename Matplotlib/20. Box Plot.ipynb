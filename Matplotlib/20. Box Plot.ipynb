{
 "cells": [
  {
   "cell_type": "code",
   "execution_count": 1,
   "metadata": {},
   "outputs": [],
   "source": [
    "import numpy as np\n",
    "import matplotlib.pyplot as plt\n",
    "%matplotlib inline"
   ]
  },
  {
   "cell_type": "code",
   "execution_count": 2,
   "metadata": {},
   "outputs": [],
   "source": [
    "np.random.seed(10)\n",
    "collection_1=np.random.normal(100,10,200)\n",
    "collection_2=np.random.normal(80,30,200)\n",
    "collection_3=np.random.normal(90,20,200)\n",
    "collection_4=np.random.normal(70,25,200)\n",
    "data_to_plot=[collection_1,collection_2,collection_3,collection_4]"
   ]
  },
  {
   "cell_type": "code",
   "execution_count": 3,
   "metadata": {},
   "outputs": [
    {
     "data": {
      "text/plain": [
       "{'whiskers': [<matplotlib.lines.Line2D at 0x1507ec9b548>,\n",
       "  <matplotlib.lines.Line2D at 0x1507c138888>,\n",
       "  <matplotlib.lines.Line2D at 0x1507c150a88>,\n",
       "  <matplotlib.lines.Line2D at 0x1507c14d688>,\n",
       "  <matplotlib.lines.Line2D at 0x1507c166648>,\n",
       "  <matplotlib.lines.Line2D at 0x1507c16c7c8>,\n",
       "  <matplotlib.lines.Line2D at 0x1507c175748>,\n",
       "  <matplotlib.lines.Line2D at 0x1507c175f88>],\n",
       " 'caps': [<matplotlib.lines.Line2D at 0x1507c147388>,\n",
       "  <matplotlib.lines.Line2D at 0x1507c1479c8>,\n",
       "  <matplotlib.lines.Line2D at 0x1507c156b88>,\n",
       "  <matplotlib.lines.Line2D at 0x1507c15a448>,\n",
       "  <matplotlib.lines.Line2D at 0x1507c16c748>,\n",
       "  <matplotlib.lines.Line2D at 0x1507c1708c8>,\n",
       "  <matplotlib.lines.Line2D at 0x1507c175248>,\n",
       "  <matplotlib.lines.Line2D at 0x1507c179ec8>],\n",
       " 'boxes': [<matplotlib.lines.Line2D at 0x1507c12fb88>,\n",
       "  <matplotlib.lines.Line2D at 0x1507c150108>,\n",
       "  <matplotlib.lines.Line2D at 0x1507c1501c8>,\n",
       "  <matplotlib.lines.Line2D at 0x1507c170808>],\n",
       " 'medians': [<matplotlib.lines.Line2D at 0x1507c147fc8>,\n",
       "  <matplotlib.lines.Line2D at 0x1507c15ac88>,\n",
       "  <matplotlib.lines.Line2D at 0x1507c170848>,\n",
       "  <matplotlib.lines.Line2D at 0x1507c179b48>],\n",
       " 'fliers': [<matplotlib.lines.Line2D at 0x1507efc8388>,\n",
       "  <matplotlib.lines.Line2D at 0x1507c15f508>,\n",
       "  <matplotlib.lines.Line2D at 0x1507c170fc8>,\n",
       "  <matplotlib.lines.Line2D at 0x1507c180808>],\n",
       " 'means': []}"
      ]
     },
     "execution_count": 3,
     "metadata": {},
     "output_type": "execute_result"
    },
    {
     "data": {
      "image/png": "[encoded data removed]",
      "text/plain": [
       "<Figure size 432x288 with 1 Axes>"
      ]
     },
     "metadata": {
      "needs_background": "light"
     },
     "output_type": "display_data"
    }
   ],
   "source": [
    "fig=plt.figure()\n",
    "ax=fig.add_axes([0,0,1,1])\n",
    "ax.boxplot(data_to_plot)"
   ]
  }
 ],
 "metadata": {
  "kernelspec": {
   "display_name": "Python 3",
   "language": "python",
   "name": "python3"
  },
  "language_info": {
   "codemirror_mode": {
    "name": "ipython",
    "version": 3
   },
   "file_extension": ".py",
   "mimetype": "text/x-python",
   "name": "python",
   "nbconvert_exporter": "python",
   "pygments_lexer": "ipython3",
   "version": "3.7.6"
  }
 },
 "nbformat": 4,
 "nbformat_minor": 4
}
